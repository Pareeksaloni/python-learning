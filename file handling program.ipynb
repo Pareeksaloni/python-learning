{
 "cells": [
  {
   "cell_type": "markdown",
   "id": "37cf5c73",
   "metadata": {},
   "source": [
    "###### path = input(\"enter the path name :\")\n",
    "mode = input(\"enter the mode :\")\n",
    "file = open(path , mode)\n",
    "ques = input(\"do you want to write something :\")\n",
    "if ques==\"yes\":\n",
    "    ques1 = input(\"which type of mode you want ?\")\n",
    "    if ques1 == \"write\":\n",
    "        file.write(input(\"write the text :\"))\n",
    "    elif ques1 == \"read\":\n",
    "        file.read()\n",
    "    elif ques1 == \"create\":\n",
    "        file.create()\n",
    "    elif ques1 == \"append\":\n",
    "        file.append(input(\"write the text :\"))\n",
    "    else:\n",
    "        file.close()\n",
    "else:\n",
    "    file.close()"
   ]
  },
  {
   "cell_type": "code",
   "execution_count": null,
   "id": "22f22228",
   "metadata": {},
   "outputs": [],
   "source": []
  }
 ],
 "metadata": {
  "kernelspec": {
   "display_name": "Python 3 (ipykernel)",
   "language": "python",
   "name": "python3"
  },
  "language_info": {
   "codemirror_mode": {
    "name": "ipython",
    "version": 3
   },
   "file_extension": ".py",
   "mimetype": "text/x-python",
   "name": "python",
   "nbconvert_exporter": "python",
   "pygments_lexer": "ipython3",
   "version": "3.9.12"
  }
 },
 "nbformat": 4,
 "nbformat_minor": 5
}
