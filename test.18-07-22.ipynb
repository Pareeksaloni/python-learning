{
 "cells": [
  {
   "cell_type": "code",
   "execution_count": 7,
   "id": "a07b4d47",
   "metadata": {},
   "outputs": [
    {
     "name": "stdout",
     "output_type": "stream",
     "text": [
      "[100, 110, 200, 90, 26]\n",
      "[105, 27]\n"
     ]
    }
   ],
   "source": [
    "l1=[26,[27,90,[100,105,110,200]]]\n",
    "a=[]\n",
    "b=[]\n",
    "for k in l1[1][2]:\n",
    "    if k%2==0:\n",
    "        a.append(k)\n",
    "    else:\n",
    "        b.append(k)\n",
    "l1[1][2]=0\n",
    "for m in l1[1]:\n",
    "    if m%2==0:\n",
    "        a.append(m)\n",
    "    else:\n",
    "        b.append(m)\n",
    "l1[1]=0\n",
    "for n in l1:\n",
    "    if n%2==0:\n",
    "        a.append(n)\n",
    "    else:\n",
    "        b.append(n)\n",
    "a.remove(0)\n",
    "a.remove(0)\n",
    "print(a)\n",
    "print(b)\n",
    "    \n",
    "    \n",
    "    \n",
    "    "
   ]
  },
  {
   "cell_type": "code",
   "execution_count": 10,
   "id": "23ac9914",
   "metadata": {},
   "outputs": [
    {
     "name": "stdout",
     "output_type": "stream",
     "text": [
      "Enter the new value of password :saloni\n",
      "{'name': 'jack', 'keys': {'code': 1060, 'password': 'saloni', 'user_name': ['abc@gmail.com']}}\n"
     ]
    }
   ],
   "source": [
    "data={\"name\":\"jack\",\"keys\":{\"code\":1060,\"password\":\"sean\",\"user_name\":[\"abc@gmail.com\"]}}\n",
    "data[\"keys\"][\"password\"]= input(\"Enter the new value of password :\")\n",
    "print(data)"
   ]
  },
  {
   "cell_type": "code",
   "execution_count": 12,
   "id": "5cadff71",
   "metadata": {},
   "outputs": [
    {
     "name": "stdout",
     "output_type": "stream",
     "text": [
      "{'name': 'jack', 'keys': {'code': 1060, 'password': 'sean', 'user_name': []}}\n"
     ]
    }
   ],
   "source": [
    "data={\"name\":\"jack\",\"keys\":{\"code\":1060,\"password\":\"sean\",\"user_name\":[\"abc@gmail.com\"]}}\n",
    "data[\"keys\"][\"user_name\"].clear()\n",
    "print(data)"
   ]
  },
  {
   "cell_type": "code",
   "execution_count": 40,
   "id": "6209e640",
   "metadata": {},
   "outputs": [],
   "source": [
    "def sp():\n",
    "    import pandas as pd\n",
    "    d1 ={\"name\":[\"saloni\"],\n",
    "         \"age\":[20],\n",
    "         \"Gender\":[\"F\"]}\n",
    "    df = pd.DataFrame(d1)\n",
    "    print(df)"
   ]
  },
  {
   "cell_type": "code",
   "execution_count": null,
   "id": "8f5f9220",
   "metadata": {},
   "outputs": [],
   "source": []
  },
  {
   "cell_type": "code",
   "execution_count": 41,
   "id": "050b0f4e",
   "metadata": {},
   "outputs": [
    {
     "name": "stdout",
     "output_type": "stream",
     "text": [
      "     name  age Gender\n",
      "0  saloni   20      F\n"
     ]
    }
   ],
   "source": [
    "sp()"
   ]
  },
  {
   "cell_type": "code",
   "execution_count": 45,
   "id": "6eac2027",
   "metadata": {},
   "outputs": [],
   "source": [
    "def bvdsg():\n",
    "    l1=[]\n",
    "    for k in range(0,10):\n",
    "        l1.append(k)\n",
    "    return l1 \n",
    "    "
   ]
  },
  {
   "cell_type": "code",
   "execution_count": 46,
   "id": "cd4c42a3",
   "metadata": {},
   "outputs": [
    {
     "name": "stdout",
     "output_type": "stream",
     "text": [
      "[0, 1, 2, 3, 4, 5, 6, 7, 8, 9]\n"
     ]
    }
   ],
   "source": [
    "print(bvdsg())"
   ]
  },
  {
   "cell_type": "code",
   "execution_count": 6,
   "id": "cdb929c8",
   "metadata": {},
   "outputs": [
    {
     "name": "stdout",
     "output_type": "stream",
     "text": [
      "[0, 1, 2, 3, 4, 5, 6, 7, 8, 9, 10, 11, 12, 13, 14, 15, 16, 17, 18, 19, 20, 21, 22, 23, 24, 25, 26, 27, 28, 29, 30, 31, 32, 33, 34, 35, 36, 37, 38, 39, 40, 41, 42, 43, 44, 45, 46, 47, 48, 49, 50, 51, 52, 53, 54, 55, 56, 57, 58, 59, 60, 61, 62, 63, 64, 65, 66, 67, 68, 69, 70, 71, 72, 73, 74, 75, 76, 77, 78, 79, 80, 81, 82, 83, 84, 85, 86, 87, 88, 89, 90, 91, 92, 93, 94, 95, 96, 97, 98, 99, 100, 101, 102, 103, 104, 105, 106, 107, 108, 109, 110, 111, 112, 113, 114, 115, 116, 117, 118, 119, 120, 121, 122, 123, 124, 125, 126, 127, 128, 129, 130, 131, 132, 133, 134, 135, 136, 137, 138, 139, 140, 141, 142, 143, 144, 145, 146, 147, 148, 149, 150, 151, 152, 153, 154, 155, 156, 157, 158, 159, 160, 161, 162, 163, 164, 165, 166, 167, 168, 169, 170, 171, 172, 173, 174, 175, 176, 177, 178, 179, 180, 181, 182, 183, 184, 185, 186, 187, 188, 189, 190, 191, 192, 193, 194, 195, 196, 197, 198, 199, 200]\n",
      "\n",
      "\n",
      "the even number list is :\n",
      " [0, 2, 4, 6, 8, 10, 12, 14, 16, 18, 20, 22, 24, 26, 28, 30, 32, 34, 36, 38, 40, 42, 44, 46, 48, 50, 52, 54, 56, 58, 60, 62, 64, 66, 68, 70, 72, 74, 76, 78, 80, 82, 84, 86, 88, 90, 92, 94, 96, 98, 100, 102, 104, 106, 108, 110, 112, 114, 116, 118, 120, 122, 124, 126, 128, 130, 132, 134, 136, 138, 140, 142, 144, 146, 148, 150, 152, 154, 156, 158, 160, 162, 164, 166, 168, 170, 172, 174, 176, 178, 180, 182, 184, 186, 188, 190, 192, 194, 196, 198, 200]\n",
      "\n",
      "\n",
      "the odd number list is :\n",
      " [1, 3, 5, 7, 9, 11, 13, 15, 17, 19, 21, 23, 25, 27, 29, 31, 33, 35, 37, 39, 41, 43, 45, 47, 49, 51, 53, 55, 57, 59, 61, 63, 65, 67, 69, 71, 73, 75, 77, 79, 81, 83, 85, 87, 89, 91, 93, 95, 97, 99, 101, 103, 105, 107, 109, 111, 113, 115, 117, 119, 121, 123, 125, 127, 129, 131, 133, 135, 137, 139, 141, 143, 145, 147, 149, 151, 153, 155, 157, 159, 161, 163, 165, 167, 169, 171, 173, 175, 177, 179, 181, 183, 185, 187, 189, 191, 193, 195, 197, 199]\n"
     ]
    }
   ],
   "source": [
    "l1=[]\n",
    "even=[]\n",
    "odd=[]\n",
    "prime=[]\n",
    "for k in range(0,201):\n",
    "    l1.append(k)\n",
    "print(l1)\n",
    "\n",
    "for k in l1:\n",
    "    if k%2==0:\n",
    "        even.append(k)\n",
    "    else:\n",
    "        odd.append(k)\n",
    "print(\"\\n\\nthe even number list is :\\n\",even)\n",
    "print(\"\\n\\nthe odd number list is :\\n\",odd)\n",
    "\n",
    "for k in "
   ]
  },
  {
   "cell_type": "code",
   "execution_count": 19,
   "id": "72f654c0",
   "metadata": {},
   "outputs": [],
   "source": [
    "def value():\n",
    "    from colorama import Fore,Back\n",
    "    return \"you passed the first step\"+Fore.GREEN+Back.BLUE\n",
    "\n",
    "    def detail():\n",
    "        return \"fill your details \\n\"+input(\"enter your name :\\n\")+input(\"enter your age :\")\n",
    "\n",
    "    "
   ]
  },
  {
   "cell_type": "code",
   "execution_count": 27,
   "id": "c6c627c0",
   "metadata": {},
   "outputs": [],
   "source": [
    "def folder():\n",
    "    return value()\n",
    "    "
   ]
  },
  {
   "cell_type": "code",
   "execution_count": 28,
   "id": "7b935491",
   "metadata": {},
   "outputs": [
    {
     "name": "stdout",
     "output_type": "stream",
     "text": [
      "you passed the first step\u001b[32m\u001b[44m\n"
     ]
    }
   ],
   "source": [
    "print(folder())"
   ]
  },
  {
   "cell_type": "code",
   "execution_count": null,
   "id": "b1ad4a68",
   "metadata": {},
   "outputs": [],
   "source": []
  },
  {
   "cell_type": "code",
   "execution_count": 75,
   "id": "35824e8e",
   "metadata": {},
   "outputs": [],
   "source": [
    "def info():\n",
    "    return input(\"your college :\\n\")+input(\"your batch :\\n\")+\"your information is completed....\\nthank you\""
   ]
  },
  {
   "cell_type": "code",
   "execution_count": 76,
   "id": "aa934702",
   "metadata": {},
   "outputs": [],
   "source": [
    "def call():\n",
    "#     value()\n",
    "#     detail()\n",
    "    return info()"
   ]
  },
  {
   "cell_type": "code",
   "execution_count": null,
   "id": "41c9a986",
   "metadata": {},
   "outputs": [],
   "source": []
  },
  {
   "cell_type": "code",
   "execution_count": 77,
   "id": "807dd6ae",
   "metadata": {},
   "outputs": [
    {
     "name": "stdout",
     "output_type": "stream",
     "text": [
      "your college :\n",
      "bm\n",
      "your batch :\n",
      "y\n",
      "bmyyour information is completed....\n",
      "thank you\n"
     ]
    }
   ],
   "source": [
    "print(call())"
   ]
  },
  {
   "cell_type": "code",
   "execution_count": 8,
   "id": "393d59bb",
   "metadata": {},
   "outputs": [],
   "source": [
    "def value():\n",
    "    from colorama import Fore,Back\n",
    "    return \"you passed the first step\"+Fore.GREEN+Back.BLUE\n",
    "\n",
    "    def detail():\n",
    "        return input(\"your name :\\n\")+input(\"your age :\\n\")+\"your details are submitted\"\n",
    "    \n",
    "       "
   ]
  },
  {
   "cell_type": "code",
   "execution_count": 9,
   "id": "27b393d7",
   "metadata": {},
   "outputs": [],
   "source": [
    "def call():\n",
    "    value()\n",
    "    detail()\n",
    "    "
   ]
  },
  {
   "cell_type": "code",
   "execution_count": 10,
   "id": "6b4e2adc",
   "metadata": {},
   "outputs": [
    {
     "ename": "NameError",
     "evalue": "name 'detail' is not defined",
     "output_type": "error",
     "traceback": [
      "\u001b[1;31m---------------------------------------------------------------------------\u001b[0m",
      "\u001b[1;31mNameError\u001b[0m                                 Traceback (most recent call last)",
      "Input \u001b[1;32mIn [10]\u001b[0m, in \u001b[0;36m<cell line: 1>\u001b[1;34m()\u001b[0m\n\u001b[1;32m----> 1\u001b[0m \u001b[38;5;28mprint\u001b[39m(\u001b[43mcall\u001b[49m\u001b[43m(\u001b[49m\u001b[43m)\u001b[49m)\n",
      "Input \u001b[1;32mIn [9]\u001b[0m, in \u001b[0;36mcall\u001b[1;34m()\u001b[0m\n\u001b[0;32m      1\u001b[0m \u001b[38;5;28;01mdef\u001b[39;00m \u001b[38;5;21mcall\u001b[39m():\n\u001b[0;32m      2\u001b[0m     value()\n\u001b[1;32m----> 3\u001b[0m     \u001b[43mdetail\u001b[49m()\n",
      "\u001b[1;31mNameError\u001b[0m: name 'detail' is not defined"
     ]
    }
   ],
   "source": [
    "print(call())"
   ]
  },
  {
   "cell_type": "code",
   "execution_count": 8,
   "id": "b09566a6",
   "metadata": {},
   "outputs": [],
   "source": [
    "def data():\n",
    "    global a \n",
    "    a = input(\"enter your name :\")\n",
    "    global b\n",
    "    b = int(input(\"enter the no. of siblings you have :\"))\n",
    "    global c\n",
    "    c = input(\"enter your siblings name :\")\n",
    "    global d\n",
    "    d = input(\"enter your age :\")\n",
    "    global e\n",
    "    e = input(\"enter your mother's name :\")\n",
    "    global f\n",
    "    f = input(\"enter your father's name :\")\n",
    "    \n",
    "    "
   ]
  },
  {
   "cell_type": "code",
   "execution_count": 12,
   "id": "c7ef7305",
   "metadata": {},
   "outputs": [
    {
     "name": "stdout",
     "output_type": "stream",
     "text": [
      "enter your name :saloni\n",
      "enter the no. of siblings you have :1\n",
      "enter your siblings name :suhani\n",
      "enter your age :20\n",
      "enter your mother's name :ritu\n",
      "enter your father's name :ravindra\n"
     ]
    }
   ],
   "source": [
    "data()"
   ]
  },
  {
   "cell_type": "code",
   "execution_count": 14,
   "id": "7c9638c2",
   "metadata": {},
   "outputs": [
    {
     "name": "stdout",
     "output_type": "stream",
     "text": [
      "My name is : saloni\n",
      "No. of sibling is : 1\n",
      "My sibling's name is : suhani\n",
      "My age is : 20\n",
      "My mother's name is : ritu\n",
      "My father's name is : ravindra\n"
     ]
    }
   ],
   "source": [
    "print(\"My name is :\",a)\n",
    "print(\"No. of sibling is :\",b)\n",
    "print(\"My sibling's name is :\",c)\n",
    "print(\"My age is :\",d)\n",
    "print(\"My mother's name is :\",e)\n",
    "print(\"My father's name is :\",f)"
   ]
  },
  {
   "cell_type": "code",
   "execution_count": 1,
   "id": "dbd9ec1a",
   "metadata": {},
   "outputs": [],
   "source": [
    "def value():\n",
    "    return \"you have to fill the details given below \"\n",
    "\n",
    "def detail():\n",
    "    return input(\"enter the name :\\n\")+input(\"enter the age :\\n\")+\"other information have to given below \"\n",
    "\n",
    "def info():\n",
    "    return input(\"enter the college name :\\n\")+input(\"enter the batch :\\n\")+\"you completed the details....\""
   ]
  },
  {
   "cell_type": "code",
   "execution_count": 2,
   "id": "04793c49",
   "metadata": {},
   "outputs": [],
   "source": [
    "def vsfs():\n",
    "    value()\n",
    "    detail()\n",
    "    info()"
   ]
  },
  {
   "cell_type": "code",
   "execution_count": 3,
   "id": "bd695543",
   "metadata": {},
   "outputs": [
    {
     "name": "stdout",
     "output_type": "stream",
     "text": [
      "enter the name :\n",
      "saloni\n",
      "enter the age :\n",
      "20\n",
      "enter the college name :\n",
      "poornima university\n",
      "enter the batch :\n",
      "cs\n",
      "None\n"
     ]
    }
   ],
   "source": [
    "print(vsfs())"
   ]
  },
  {
   "cell_type": "code",
   "execution_count": 7,
   "id": "defbdf3c",
   "metadata": {},
   "outputs": [
    {
     "name": "stdout",
     "output_type": "stream",
     "text": [
      "enter the no. :43\n",
      "enter another no. :65\n",
      "enter the no. :23\n",
      "enter another no. :64\n",
      "enter the no. :74\n",
      "enter another no. :34\n",
      "enter the no. :25\n",
      "enter another no. :5\n"
     ]
    }
   ],
   "source": [
    "call = lambda a=int(input(\"enter the no. :\")),b=int(input(\"enter another no. :\")):a+b\n",
    "d1 = lambda c=int(input(\"enter the no. :\")),d=int(input(\"enter another no. :\")):c-d\n",
    "a1 = lambda e=int(input(\"enter the no. :\")),f=int(input(\"enter another no. :\")):e*f\n",
    "b1 = lambda g=int(input(\"enter the no. :\")),h=int(input(\"enter another no. :\")):g/h\n",
    "\n"
   ]
  },
  {
   "cell_type": "code",
   "execution_count": 8,
   "id": "91ebe094",
   "metadata": {},
   "outputs": [
    {
     "data": {
      "text/plain": [
       "108"
      ]
     },
     "execution_count": 8,
     "metadata": {},
     "output_type": "execute_result"
    }
   ],
   "source": [
    "call()"
   ]
  },
  {
   "cell_type": "code",
   "execution_count": 9,
   "id": "82c2de63",
   "metadata": {},
   "outputs": [
    {
     "data": {
      "text/plain": [
       "-41"
      ]
     },
     "execution_count": 9,
     "metadata": {},
     "output_type": "execute_result"
    }
   ],
   "source": [
    "d1()"
   ]
  },
  {
   "cell_type": "code",
   "execution_count": 10,
   "id": "7ba6abdd",
   "metadata": {},
   "outputs": [
    {
     "data": {
      "text/plain": [
       "2516"
      ]
     },
     "execution_count": 10,
     "metadata": {},
     "output_type": "execute_result"
    }
   ],
   "source": [
    "a1()"
   ]
  },
  {
   "cell_type": "code",
   "execution_count": 11,
   "id": "9d817617",
   "metadata": {},
   "outputs": [
    {
     "data": {
      "text/plain": [
       "5.0"
      ]
     },
     "execution_count": 11,
     "metadata": {},
     "output_type": "execute_result"
    }
   ],
   "source": [
    "b1()"
   ]
  },
  {
   "cell_type": "code",
   "execution_count": 13,
   "id": "92259e2a",
   "metadata": {},
   "outputs": [
    {
     "name": "stdout",
     "output_type": "stream",
     "text": [
      "the addition is : 108\n",
      "the sub is : -41\n",
      "the multiplication is : 2516\n",
      "the div is : 5.0\n"
     ]
    }
   ],
   "source": [
    "print(\"the addition is :\",call())\n",
    "print(\"the sub is :\",d1())\n",
    "print(\"the multiplication is :\",a1())\n",
    "print(\"the div is :\",b1())"
   ]
  },
  {
   "cell_type": "code",
   "execution_count": 1,
   "id": "e21d6832",
   "metadata": {},
   "outputs": [],
   "source": [
    "max_ = lambda a,b : a if a>b else b\n",
    "min_ = lambda a,b : a if b>a else b"
   ]
  },
  {
   "cell_type": "code",
   "execution_count": 3,
   "id": "a4e2d488",
   "metadata": {},
   "outputs": [
    {
     "name": "stdout",
     "output_type": "stream",
     "text": [
      "the maximum number is : 9\n",
      "the minimum number is : 2\n"
     ]
    }
   ],
   "source": [
    "print(\"the maximum number is :\",max_(9,4))\n",
    "print(\"the minimum number is :\",min_(2,7))"
   ]
  },
  {
   "cell_type": "code",
   "execution_count": 4,
   "id": "d628d416",
   "metadata": {},
   "outputs": [
    {
     "name": "stdout",
     "output_type": "stream",
     "text": [
      "the even no. is : 6\n",
      "the odd no. is : 3\n"
     ]
    }
   ],
   "source": [
    "even_ = lambda a,b: a if a%2==0 else b\n",
    "odd_ = lambda a,b: b if a%2==0 else a\n",
    "print(\"the even no. is :\",even_(6,5))\n",
    "print(\"the odd no. is :\",odd_(3,6))"
   ]
  },
  {
   "cell_type": "code",
   "execution_count": 2,
   "id": "d883fa44",
   "metadata": {},
   "outputs": [
    {
     "name": "stdout",
     "output_type": "stream",
     "text": [
      "enter the list :s hd sfsh sgrbj\n"
     ]
    }
   ],
   "source": [
    "lst = [input(\"enter the list :\").split()]\n",
    "l1 = lambda lst : lst if input(\"enter the name : \") else print(\"hy there\")"
   ]
  },
  {
   "cell_type": "code",
   "execution_count": 4,
   "id": "a757e346",
   "metadata": {},
   "outputs": [],
   "source": []
  },
  {
   "cell_type": "code",
   "execution_count": 5,
   "id": "738a9e10",
   "metadata": {},
   "outputs": [
    {
     "ename": "SyntaxError",
     "evalue": "invalid syntax (1946710644.py, line 1)",
     "output_type": "error",
     "traceback": [
      "\u001b[1;36m  Input \u001b[1;32mIn [5]\u001b[1;36m\u001b[0m\n\u001b[1;33m    behave properly\u001b[0m\n\u001b[1;37m           ^\u001b[0m\n\u001b[1;31mSyntaxError\u001b[0m\u001b[1;31m:\u001b[0m invalid syntax\n"
     ]
    }
   ],
   "source": []
  },
  {
   "cell_type": "code",
   "execution_count": null,
   "id": "0a0f8608",
   "metadata": {},
   "outputs": [],
   "source": []
  }
 ],
 "metadata": {
  "kernelspec": {
   "display_name": "Python 3 (ipykernel)",
   "language": "python",
   "name": "python3"
  },
  "language_info": {
   "codemirror_mode": {
    "name": "ipython",
    "version": 3
   },
   "file_extension": ".py",
   "mimetype": "text/x-python",
   "name": "python",
   "nbconvert_exporter": "python",
   "pygments_lexer": "ipython3",
   "version": "3.9.12"
  }
 },
 "nbformat": 4,
 "nbformat_minor": 5
}
