{
 "cells": [
  {
   "cell_type": "code",
   "execution_count": 6,
   "id": "208bdb40",
   "metadata": {},
   "outputs": [
    {
     "name": "stdout",
     "output_type": "stream",
     "text": [
      "Enter the no.1\n",
      "1\n"
     ]
    },
    {
     "data": {
      "text/plain": [
       "'one'"
      ]
     },
     "execution_count": 6,
     "metadata": {},
     "output_type": "execute_result"
    }
   ],
   "source": [
    "list = int(input(\"Enter the no.\"))\n",
    "a = ['','one','two','Three','Four','Five','Six','Seven','Eight','Nine','Ten']\n",
    "print(list)\n",
    "a[list]"
   ]
  },
  {
   "cell_type": "markdown",
   "id": "c22cbd78",
   "metadata": {},
   "source": [
    "# {\n",
    " \"cells\": [\n",
    "  {\n",
    "   \"cell_type\": \"code\",\n",
    "   \"execution_count\": 4,\n",
    "   \"id\": \"e17521ea\",\n",
    "   \"metadata\": {},\n",
    "   \"outputs\": [\n",
    "    {\n",
    "     \"name\": \"stdout\",\n",
    "     \"output_type\": \"stream\",\n",
    "     \"text\": [\n",
    "      \"Enter the name of currency do you want to change in rupees :Dollar\\n\",\n",
    "      \"Enter the value in $ :234\\n\",\n",
    "      \"enter the value of one $ in Rupees :11\\n\",\n",
    "      \"Your result is : 2574.0 Rupees\\n\",\n",
    "      \"Your No. in word is : Two Thousand Five Hundred Seventy Four Rupees Only\\n\"\n",
    "     ]\n",
    "    }\n",
    "   ],\n",
    "   \"source\": [\n",
    "    \"a = input(\\\"Enter the name of currency do you want to change in rupees :\\\")\\n\",\n",
    "    \"\\n\",\n",
    "    \"if a == \\\"Dollar\\\":\\n\",\n",
    "    \"    a1 = int(input(\\\"Enter the value in $ :\\\"))\\n\",\n",
    "    \"    b1 = float(input(\\\"enter the value of one $ in Rupees :\\\"))\\n\",\n",
    "    \"    c = (a1*b1)\\n\",\n",
    "    \"    d = ['','One','Two','Three','Four','Five','Six','Seven','Eight','Nine','Ten','Eleven','Twelve','Thirteen','Fourteen','Fifteen','Sixteen','Seventeen','Eighteen','Nineteen']\\n\",\n",
    "    \"    e = ['','Ten','Twenty','Thirty','Forty','Fifty','Sixty','Seventy','Eighty','Ninety']\\n\",\n",
    "    \"    f = ['','One Hundred','Two Hundred','Three Hundred','Four Hundred','Five Hundred','Six Hundred','Seven Hundred','Eight Hundred','Nine Hundred',]\\n\",\n",
    "    \"    g = ['','One Thousand','Two Thousand','Three Thousand','Four Thousand','Five Thousand','Six Thousand','Seven Thousand','Eight Thousand','Nine Thousand','Ten Thousand']\\n\",\n",
    "    \"    print(\\\"Your result is :\\\",c,\\\"Rupees\\\")\\n\",\n",
    "    \"    h = int(c)\\n\",\n",
    "    \"    if c < 19 :\\n\",\n",
    "    \"        print(\\\"Your No. in word :\\\",d[h])\\n\",\n",
    "    \"    elif c <100 :\\n\",\n",
    "    \"        print(\\\"Your No. in word is : \\\",e[h//10] +\\\" \\\"+ d[h % 10 ])\\n\",\n",
    "    \"    elif c < 1000 :\\n\",\n",
    "    \"        print(\\\"Your No. in word is :\\\",f[h//100]+\\\" \\\"+ e[(h%100)//10] +\\\" \\\"+ d[h % 10 ])\\n\",\n",
    "    \"    elif c < 11000 :\\n\",\n",
    "    \"        print(\\\"Your No. in word is :\\\",g[h//1000]+\\\" \\\"+f[(h%1000)//100]+\\\" \\\"+ e[((h%1000)%100)//10] +\\\" \\\"+ d[h % 10 ],\\\"Rupees Only\\\")\\n\",\n",
    "    \"elif a == \\\"euro\\\":\\n\",\n",
    "    \"    a1 = float(input(\\\"Enter the Value in Euro:\\\"))\\n\",\n",
    "    \"    b1 = float(input(\\\"Enter the Value of one Euro in Rupees :\\\"))\\n\",\n",
    "    \"    c = a1*b1\\n\",\n",
    "    \"    d = ['','One','Two','Three','Four','Five','Six','Seven','Eight','Nine','Ten','Eleven','Twelve','Thirteen','Fourteen','Fifteen','Sixteen','Seventeen','Eighteen','Nineteen']\\n\",\n",
    "    \"    e = ['','Ten','Twenty','Thirty','Forty','Fifty','Sixty','Seventy','Eighty','Ninety']\\n\",\n",
    "    \"    f = ['','One Hundred','Two Hundred','Three Hundred','Four Hundred','Five Hundred','Six Hundred','Seven Hundred','Eight Hundred','Nine Hundred',]\\n\",\n",
    "    \"    g = ['','One Thousand','Two Thousand','Three Thousand','Four Thousand','Five Thousand','Six Thousand','Seven Thousand','Eight Thousand','Nine Thousand','Ten Thousand']\\n\",\n",
    "    \"    print(\\\"Your result is :\\\",c,\\\"Rupees\\\")\\n\",\n",
    "    \"    h = int(c)\\n\",\n",
    "    \"    if c < 19 :\\n\",\n",
    "    \"        print(\\\"Your No. in word :\\\",d[h])\\n\",\n",
    "    \"    elif c <100 :\\n\",\n",
    "    \"        print(\\\"Your No. in word is : \\\",e[h//10] +\\\" \\\"+ d[h % 10 ])\\n\",\n",
    "    \"    elif c < 1000 :\\n\",\n",
    "    \"        print(\\\"Your No. in word is :\\\",f[h//100]+\\\" \\\"+ e[(h%100)//10] +\\\" \\\"+ d[h % 10 ])\\n\",\n",
    "    \"    elif c < 11000 :\\n\",\n",
    "    \"        print(\\\"Your No. in word is :\\\",g[h//1000]+\\\" \\\"+f[(h%1000)//100]+\\\" \\\"+ e[((h%1000)%100)//10] +\\\" \\\"+ d[h % 10 ],\\\"Rupees Only\\\")\\n\",\n",
    "    \"elif a == \\\"yen\\\":\\n\",\n",
    "    \"    a1 = float(input(\\\"Enter the Value in Yen:\\\"))\\n\",\n",
    "    \"    b1 = float(input(\\\"Enter the Value of one yen in Rupees :\\\"))\\n\",\n",
    "    \"    c = a1*b1\\n\",\n",
    "    \"    d = ['','One','Two','Three','Four','Five','Six','Seven','Eight','Nine','Ten','Eleven','Twelve','Thirteen','Fourteen','Fifteen','Sixteen','Seventeen','Eighteen','Nineteen']\\n\",\n",
    "    \"    e = ['','Ten','Twenty','Thirty','Forty','Fifty','Sixty','Seventy','Eighty','Ninety']\\n\",\n",
    "    \"    f = ['','One Hundred','Two Hundred','Three Hundred','Four Hundred','Five Hundred','Six Hundred','Seven Hundred','Eight Hundred','Nine Hundred',]\\n\",\n",
    "    \"    g = ['','One Thousand','Two Thousand','Three Thousand','Four Thousand','Five Thousand','Six Thousand','Seven Thousand','Eight Thousand','Nine Thousand','Ten Thousand']\\n\",\n",
    "    \"    print(\\\"Your result is :\\\",c,\\\"Rupees\\\")\\n\",\n",
    "    \"    h = int(c)\\n\",\n",
    "    \"    if c < 19 :\\n\",\n",
    "    \"        print(\\\"Your No. in word :\\\",d[h])\\n\",\n",
    "    \"    elif c <100 :\\n\",\n",
    "    \"        print(\\\"Your No. in word is : \\\",e[h//10] +\\\" \\\"+ d[h % 10 ])\\n\",\n",
    "    \"    elif c < 1000 :\\n\",\n",
    "    \"        print(\\\"Your No. in word is :\\\",f[h//100]+\\\" \\\"+ e[(h%100)//10] +\\\" \\\"+ d[h % 10 ])\\n\",\n",
    "    \"    elif c < 11000 :\\n\",\n",
    "    \"        print(\\\"Your No. in word is :\\\",g[h//1000]+\\\" \\\"+f[(h%1000)//100]+\\\" \\\"+ e[((h%1000)%100)//10] +\\\" \\\"+ d[h % 10 ],\\\"Rupees Only\\\")\\n\",\n",
    "    \"elif a == \\\"afghani\\\" :\\n\",\n",
    "    \"    a1 = float(input(\\\"Enter the Value in Afghani:\\\"))\\n\",\n",
    "    \"    b1 = float(input(\\\"Enter the Value of one Afghani in Rupees :\\\"))\\n\",\n",
    "    \"    c = a1*b1\\n\",\n",
    "    \"    d = ['','One','Two','Three','Four','Five','Six','Seven','Eight','Nine','Ten','Eleven','Twelve','Thirteen','Fourteen','Fifteen','Sixteen','Seventeen','Eighteen','Nineteen']\\n\",\n",
    "    \"    e = ['','Ten','Twenty','Thirty','Forty','Fifty','Sixty','Seventy','Eighty','Ninety']\\n\",\n",
    "    \"    f = ['','One Hundred','Two Hundred','Three Hundred','Four Hundred','Five Hundred','Six Hundred','Seven Hundred','Eight Hundred','Nine Hundred',]\\n\",\n",
    "    \"    g = ['','One Thousand','Two Thousand','Three Thousand','Four Thousand','Five Thousand','Six Thousand','Seven Thousand','Eight Thousand','Nine Thousand','Ten Thousand']\\n\",\n",
    "    \"    print(\\\"Your result is :\\\",c,\\\"Rupees\\\")\\n\",\n",
    "    \"    h = int(c)\\n\",\n",
    "    \"    if c < 19 :\\n\",\n",
    "    \"        print(\\\"Your No. in word :\\\",d[h])\\n\",\n",
    "    \"    elif c <100 :\\n\",\n",
    "    \"        print(\\\"Your No. in word is : \\\",e[h//10] +\\\" \\\"+ d[h % 10 ])\\n\",\n",
    "    \"    elif c < 1000 :\\n\",\n",
    "    \"        print(\\\"Your No. in word is :\\\",f[h//100]+\\\" \\\"+ e[(h%100)//10] +\\\" \\\"+ d[h % 10 ])\\n\",\n",
    "    \"    elif c < 11000 :\\n\",\n",
    "    \"        print(\\\"Your No. in word is :\\\",g[h//1000]+\\\" \\\"+f[(h%1000)//100]+\\\" \\\"+ e[((h%1000)%100)//10] +\\\" \\\"+ d[h % 10 ],\\\"Rupees Only\\\")\\n\",\n",
    "    \"elif a == \\\"takka\\\" :\\n\",\n",
    "    \"    a1 = float(input(\\\"Enter the Value in Takka:\\\"))\\n\",\n",
    "    \"    b1 = float(input(\\\"Enter the Value of one Takka in Rupees :\\\"))\\n\",\n",
    "    \"    c = a1*b1\\n\",\n",
    "    \"    d = ['','One','Two','Three','Four','Five','Six','Seven','Eight','Nine','Ten','Eleven','Twelve','Thirteen','Fourteen','Fifteen','Sixteen','Seventeen','Eighteen','Nineteen']\\n\",\n",
    "    \"    e = ['','Ten','Twenty','Thirty','Forty','Fifty','Sixty','Seventy','Eighty','Ninety']\\n\",\n",
    "    \"    f = ['','One Hundred','Two Hundred','Three Hundred','Four Hundred','Five Hundred','Six Hundred','Seven Hundred','Eight Hundred','Nine Hundred',]\\n\",\n",
    "    \"    g = ['','One Thousand','Two Thousand','Three Thousand','Four Thousand','Five Thousand','Six Thousand','Seven Thousand','Eight Thousand','Nine Thousand','Ten Thousand']\\n\",\n",
    "    \"    print(\\\"Your result is :\\\",c,\\\"Rupees\\\")\\n\",\n",
    "    \"    h = int(c)\\n\",\n",
    "    \"    if c < 19 :\\n\",\n",
    "    \"        print(\\\"Your No. in word :\\\",d[h])\\n\",\n",
    "    \"    elif c <100 :\\n\",\n",
    "    \"        print(\\\"Your No. in word is : \\\",e[h//10] +\\\" \\\"+ d[h % 10 ])\\n\",\n",
    "    \"    elif c < 1000 :\\n\",\n",
    "    \"        print(\\\"Your No. in word is :\\\",f[h//100]+\\\" \\\"+ e[(h%100)//10] +\\\" \\\"+ d[h % 10 ])\\n\",\n",
    "    \"    elif c < 11000 :\\n\",\n",
    "    \"        print(\\\"Your No. in word is :\\\",g[h//1000]+\\\" \\\"+f[(h%1000)//100]+\\\" \\\"+ e[((h%1000)%100)//10] +\\\" \\\"+ d[h % 10 ],\\\"Rupees Only\\\")\\n\",\n",
    "    \"elif a == \\\"yuan\\\" :\\n\",\n",
    "    \"    a1 = float(input(\\\"Enter the Value in Yuan:\\\"))\\n\",\n",
    "    \"    b1 = float(input(\\\"Enter the Value of one Yuan in Rupees :\\\"))\\n\",\n",
    "    \"    c = a1*b1\\n\",\n",
    "    \"    d = ['','One','Two','Three','Four','Five','Six','Seven','Eight','Nine','Ten','Eleven','Twelve','Thirteen','Fourteen','Fifteen','Sixteen','Seventeen','Eighteen','Nineteen']\\n\",\n",
    "    \"    e = ['','Ten','Twenty','Thirty','Forty','Fifty','Sixty','Seventy','Eighty','Ninety']\\n\",\n",
    "    \"    f = ['','One Hundred','Two Hundred','Three Hundred','Four Hundred','Five Hundred','Six Hundred','Seven Hundred','Eight Hundred','Nine Hundred',]\\n\",\n",
    "    \"    g = ['','One Thousand','Two Thousand','Three Thousand','Four Thousand','Five Thousand','Six Thousand','Seven Thousand','Eight Thousand','Nine Thousand','Ten Thousand']\\n\",\n",
    "    \"    print(\\\"Your result is :\\\",c,\\\"Rupees\\\")\\n\",\n",
    "    \"    h = int(c)\\n\",\n",
    "    \"    if c < 19 :\\n\",\n",
    "    \"        print(\\\"Your No. in word :\\\",d[h])\\n\",\n",
    "    \"    elif c <100 :\\n\",\n",
    "    \"        print(\\\"Your No. in word is : \\\",e[h//10] +\\\" \\\"+ d[h % 10 ])\\n\",\n",
    "    \"    elif c < 1000 :\\n\",\n",
    "    \"        print(\\\"Your No. in word is :\\\",f[h//100]+\\\" \\\"+ e[(h%100)//10] +\\\" \\\"+ d[h % 10 ])\\n\",\n",
    "    \"    elif c < 11000 :\\n\",\n",
    "    \"        print(\\\"Your No. in word is :\\\",g[h//1000]+\\\" \\\"+f[(h%1000)//100]+\\\" \\\"+ e[((h%1000)%100)//10] +\\\" \\\"+ d[h % 10 ],\\\"Rupees Only\\\")\\n\",\n",
    "    \"    \\n\",\n",
    "    \"    \\n\",\n",
    "    \"    \"\n",
    "   ]\n",
    "  },\n",
    "  {\n",
    "   \"cell_type\": \"code\",\n",
    "   \"execution_count\": null,\n",
    "   \"id\": \"d2809144\",\n",
    "   \"metadata\": {},\n",
    "   \"outputs\": [],\n",
    "   \"source\": []\n",
    "  },\n",
    "  {\n",
    "   \"cell_type\": \"code\",\n",
    "   \"execution_count\": null,\n",
    "   \"id\": \"aee8ad1a\",\n",
    "   \"metadata\": {},\n",
    "   \"outputs\": [],\n",
    "   \"source\": []\n",
    "  }\n",
    " ],\n",
    " \"metadata\": {\n",
    "  \"kernelspec\": {\n",
    "   \"display_name\": \"Python 3 (ipykernel)\",\n",
    "   \"language\": \"python\",\n",
    "   \"name\": \"python3\"\n",
    "  },\n",
    "  \"language_info\": {\n",
    "   \"codemirror_mode\": {\n",
    "    \"name\": \"ipython\",\n",
    "    \"version\": 3\n",
    "   },\n",
    "   \"file_extension\": \".py\",\n",
    "   \"mimetype\": \"text/x-python\",\n",
    "   \"name\": \"python\",\n",
    "   \"nbconvert_exporter\": \"python\",\n",
    "   \"pygments_lexer\": \"ipython3\",\n",
    "   \"version\": \"3.9.12\"\n",
    "  }\n",
    " },\n",
    " \"nbformat\": 4,\n",
    " \"nbformat_minor\": 5\n",
    "}\n"
   ]
  },
  {
   "cell_type": "code",
   "execution_count": 8,
   "id": "96228ae8",
   "metadata": {},
   "outputs": [
    {
     "name": "stdout",
     "output_type": "stream",
     "text": [
      "enter the names :Aman Saloni Bishnupriya Sean\n",
      "\n",
      "enter the value :Sean\n",
      "\n",
      "enter the value :Aman\n",
      "0  ===>  Aman\n",
      "\n",
      "enter the new value :yash\n",
      "1  ===>  Saloni\n",
      "\n",
      " the new list is:\n",
      "2  ===>  Bishnupriya\n",
      "\n",
      " the new list is:\n",
      "3  ===>  Sean\n",
      "\n",
      "enter the new value :jatin\n",
      "['yash', 'Saloni', 'Bishnupriya', 'jatin']\n"
     ]
    }
   ],
   "source": [
    "list = input(\"enter the names :\").split()\n",
    "value1 = input(\"\\nenter the value :\")\n",
    "value2 = input  (\"\\nenter the value :\")\n",
    "for k in list :\n",
    "    print(list.index(k),\" ===> \",k)\n",
    "    if k == value1 or k == value2 :\n",
    "        list[list.index(k)] = input(\"\\nenter the new value :\")\n",
    "    else:\n",
    "        print(\"\\n the new list is:\")\n",
    "print(list)\n",
    "    "
   ]
  },
  {
   "cell_type": "code",
   "execution_count": null,
   "id": "02481414",
   "metadata": {},
   "outputs": [],
   "source": [
    "l1 = [10,5,6,10,8,15,16]\n",
    "total = 0\n",
    "for value in l1:\n",
    "    print(total,\"+\",value)"
   ]
  },
  {
   "cell_type": "code",
   "execution_count": 23,
   "id": "5580a68c",
   "metadata": {},
   "outputs": [
    {
     "name": "stdout",
     "output_type": "stream",
     "text": [
      "['Ria', 'Jackie']\n"
     ]
    }
   ],
   "source": [
    "L2 = [\"Sean\",\"Ria\",\"Maria\",\"Jackie\"]\n",
    "for k in range(len(L2)):\n",
    "    if k/2==1 :\n",
    "        L2.remove(L2[k])\n",
    "        if k/2==1 :\n",
    "            L2.remove(L2[0])\n",
    "print(L2)"
   ]
  },
  {
   "cell_type": "code",
   "execution_count": 26,
   "id": "352a8ce1",
   "metadata": {},
   "outputs": [
    {
     "name": "stdout",
     "output_type": "stream",
     "text": [
      "Enter The path:C:\\Users\\hp\\Downloads\\11.jpg\n"
     ]
    },
    {
     "ename": "FileNotFoundError",
     "evalue": "[Errno 2] No such file or directory: 'C:\\\\Users\\\\hp\\\\Downloads\\\\11.jpg'",
     "output_type": "error",
     "traceback": [
      "\u001b[1;31m---------------------------------------------------------------------------\u001b[0m",
      "\u001b[1;31mFileNotFoundError\u001b[0m                         Traceback (most recent call last)",
      "Input \u001b[1;32mIn [26]\u001b[0m, in \u001b[0;36m<cell line: 2>\u001b[1;34m()\u001b[0m\n\u001b[0;32m      1\u001b[0m \u001b[38;5;28;01mfrom\u001b[39;00m \u001b[38;5;21;01mPIL\u001b[39;00m \u001b[38;5;28;01mimport\u001b[39;00m Image\n\u001b[1;32m----> 2\u001b[0m img \u001b[38;5;241m=\u001b[39m \u001b[43mImage\u001b[49m\u001b[38;5;241;43m.\u001b[39;49m\u001b[43mopen\u001b[49m\u001b[43m(\u001b[49m\u001b[38;5;28;43minput\u001b[39;49m\u001b[43m(\u001b[49m\u001b[38;5;124;43m\"\u001b[39;49m\u001b[38;5;124;43mEnter The path:\u001b[39;49m\u001b[38;5;124;43m\"\u001b[39;49m\u001b[43m)\u001b[49m\u001b[43m)\u001b[49m\n\u001b[0;32m      3\u001b[0m img\n",
      "File \u001b[1;32m~\\anaconda3\\lib\\site-packages\\PIL\\Image.py:2953\u001b[0m, in \u001b[0;36mopen\u001b[1;34m(fp, mode, formats)\u001b[0m\n\u001b[0;32m   2950\u001b[0m     filename \u001b[38;5;241m=\u001b[39m fp\n\u001b[0;32m   2952\u001b[0m \u001b[38;5;28;01mif\u001b[39;00m filename:\n\u001b[1;32m-> 2953\u001b[0m     fp \u001b[38;5;241m=\u001b[39m \u001b[43mbuiltins\u001b[49m\u001b[38;5;241;43m.\u001b[39;49m\u001b[43mopen\u001b[49m\u001b[43m(\u001b[49m\u001b[43mfilename\u001b[49m\u001b[43m,\u001b[49m\u001b[43m \u001b[49m\u001b[38;5;124;43m\"\u001b[39;49m\u001b[38;5;124;43mrb\u001b[39;49m\u001b[38;5;124;43m\"\u001b[39;49m\u001b[43m)\u001b[49m\n\u001b[0;32m   2954\u001b[0m     exclusive_fp \u001b[38;5;241m=\u001b[39m \u001b[38;5;28;01mTrue\u001b[39;00m\n\u001b[0;32m   2956\u001b[0m \u001b[38;5;28;01mtry\u001b[39;00m:\n",
      "\u001b[1;31mFileNotFoundError\u001b[0m: [Errno 2] No such file or directory: 'C:\\\\Users\\\\hp\\\\Downloads\\\\11.jpg'"
     ]
    }
   ],
   "source": [
    "from PIL import Image\n",
    "img = Image.open(input(\"Enter The path:\"))\n",
    "img"
   ]
  },
  {
   "cell_type": "code",
   "execution_count": 39,
   "id": "5a80e4e1",
   "metadata": {},
   "outputs": [
    {
     "name": "stdout",
     "output_type": "stream",
     "text": [
      "['Sean', 'Jack']\n",
      "True\n"
     ]
    }
   ],
   "source": [
    "d1 = {\"Name\":[\"Sean\",\"Jack\"]}\n",
    "for k in d1.values():\n",
    "    print(k)\n",
    "    if \"Sean\" in k:\n",
    "        print(\"True\")"
   ]
  },
  {
   "cell_type": "code",
   "execution_count": 40,
   "id": "9814e0ec",
   "metadata": {},
   "outputs": [
    {
     "data": {
      "text/html": [
       "<div>\n",
       "<style scoped>\n",
       "    .dataframe tbody tr th:only-of-type {\n",
       "        vertical-align: middle;\n",
       "    }\n",
       "\n",
       "    .dataframe tbody tr th {\n",
       "        vertical-align: top;\n",
       "    }\n",
       "\n",
       "    .dataframe thead th {\n",
       "        text-align: right;\n",
       "    }\n",
       "</style>\n",
       "<table border=\"1\" class=\"dataframe\">\n",
       "  <thead>\n",
       "    <tr style=\"text-align: right;\">\n",
       "      <th></th>\n",
       "      <th>name</th>\n",
       "      <th>address</th>\n",
       "    </tr>\n",
       "  </thead>\n",
       "  <tbody>\n",
       "    <tr>\n",
       "      <th>0</th>\n",
       "      <td>saloni</td>\n",
       "      <td>jaipur</td>\n",
       "    </tr>\n",
       "    <tr>\n",
       "      <th>1</th>\n",
       "      <td>yash</td>\n",
       "      <td>MP</td>\n",
       "    </tr>\n",
       "  </tbody>\n",
       "</table>\n",
       "</div>"
      ],
      "text/plain": [
       "     name address\n",
       "0  saloni  jaipur\n",
       "1    yash      MP"
      ]
     },
     "execution_count": 40,
     "metadata": {},
     "output_type": "execute_result"
    }
   ],
   "source": [
    "d1 = {\"name\":[\"saloni\",\"yash\"],\"address\":[\"jaipur\",\"MP\"]}\n",
    "import pandas as pd\n",
    "df = pd.DataFrame(d1)\n",
    "df"
   ]
  },
  {
   "cell_type": "code",
   "execution_count": null,
   "id": "b41ca7f9",
   "metadata": {},
   "outputs": [],
   "source": [
    "l1 = [1,2,3,4,5,6,7]\n",
    "l2 = []\n",
    "data = [2,4,6]\n",
    "for k in l1:\n",
    "    if "
   ]
  },
  {
   "cell_type": "code",
   "execution_count": 1,
   "id": "ebceaff4",
   "metadata": {},
   "outputs": [
    {
     "name": "stdout",
     "output_type": "stream",
     "text": [
      "\n",
      "Addition is : 102.5\n",
      "\n",
      "subtraction is : 97.5\n",
      "\n",
      "multiplication is : 250.0\n",
      "\n",
      "division is : 40.0\n"
     ]
    }
   ],
   "source": [
    "def total(a1=100,b1=2.5):\n",
    "    add = a1+b1\n",
    "    sub = a1-b1\n",
    "    mul = a1*b1\n",
    "    div = a1/b1\n",
    "    print(\"\\nAddition is :\",add)\n",
    "    print(\"\\nsubtraction is :\",sub)\n",
    "    print(\"\\nmultiplication is :\",mul)\n",
    "    print(\"\\ndivision is :\",div)\n",
    "    \n",
    "total()\n",
    "    "
   ]
  },
  {
   "cell_type": "code",
   "execution_count": 2,
   "id": "9005fcd8",
   "metadata": {},
   "outputs": [],
   "source": [
    "def info(name,age):\n",
    "    print(\"name ==>\",name)\n",
    "    print(\"age ==>\",age)"
   ]
  },
  {
   "cell_type": "code",
   "execution_count": 4,
   "id": "72effa4a",
   "metadata": {},
   "outputs": [
    {
     "name": "stdout",
     "output_type": "stream",
     "text": [
      "name ==> saloni\n",
      "age ==> 20\n"
     ]
    }
   ],
   "source": [
    "info(\"saloni\",20)"
   ]
  },
  {
   "cell_type": "code",
   "execution_count": null,
   "id": "88a75f04",
   "metadata": {},
   "outputs": [],
   "source": []
  }
 ],
 "metadata": {
  "kernelspec": {
   "display_name": "Python 3 (ipykernel)",
   "language": "python",
   "name": "python3"
  },
  "language_info": {
   "codemirror_mode": {
    "name": "ipython",
    "version": 3
   },
   "file_extension": ".py",
   "mimetype": "text/x-python",
   "name": "python",
   "nbconvert_exporter": "python",
   "pygments_lexer": "ipython3",
   "version": "3.9.12"
  }
 },
 "nbformat": 4,
 "nbformat_minor": 5
}
