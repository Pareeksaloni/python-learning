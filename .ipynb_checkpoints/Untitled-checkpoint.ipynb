{
 "cells": [
  {
   "cell_type": "code",
   "execution_count": 4,
   "id": "a12cf342",
   "metadata": {},
   "outputs": [
    {
     "name": "stdout",
     "output_type": "stream",
     "text": [
      "enter the value:1\n",
      "enter the limit:6\n",
      "enter the incr value:1\n",
      "\n",
      "now you can go forward 2\n",
      "\n",
      "now you can go forward 3\n",
      "\n",
      "now you can go forward 4\n",
      "\n",
      "now you can go forward 5\n",
      "enter the key :name\n",
      "enter the value :saloni saloni saloni saloni saloni\n",
      "enter the key :age\n",
      "enter the value :17 17 17 17 17\n",
      "enter the key :Brain\n",
      "enter the value :0 0 0 0 0\n",
      "enter the key :Height\n",
      "enter the value :5 5 5 5 5 \n",
      "     name age Brain Height\n",
      "0  saloni  17     0      5\n",
      "1  saloni  17     0      5\n",
      "2  saloni  17     0      5\n",
      "3  saloni  17     0      5\n",
      "4  saloni  17     0      5\n",
      "\n",
      "now you can go forward 6\n",
      "your loop is over...\n"
     ]
    }
   ],
   "source": [
    "value = int(input(\"enter the value:\"))\n",
    "limit = int(input(\"enter the limit:\"))\n",
    "incr = int(input(\"enter the incr value:\"))\n",
    "\n",
    "while value<limit:\n",
    "    if value==5:\n",
    "        import pandas as pd\n",
    "        df = pd.DataFrame({input(\"enter the key :\"):input(\"enter the value :\").split(),\n",
    "                          input(\"enter the key :\"):input(\"enter the value :\").split(),\n",
    "                          input(\"enter the key :\"):input(\"enter the value :\").split(),\n",
    "                          input(\"enter the key :\"):input(\"enter the value :\").split()})\n",
    "        print(df)\n",
    "    value+=incr\n",
    "    print(\"\\nnow you can go forward\",value)\n",
    "else:\n",
    "    print(\"your loop is over...\")"
   ]
  },
  {
   "cell_type": "code",
   "execution_count": 5,
   "id": "b59ae241",
   "metadata": {},
   "outputs": [
    {
     "name": "stdout",
     "output_type": "stream",
     "text": [
      "enter the value:1\n",
      "enter the limit:6\n",
      "enter the incr value:1\n",
      "\n",
      "now you can go forward 2\n",
      "\n",
      "now you can go forward 3\n",
      "\n",
      "now you can go forward 4\n",
      "\n",
      "now you can go forward 5\n"
     ]
    }
   ],
   "source": [
    "value = int(input(\"enter the value:\"))\n",
    "limit = int(input(\"enter the limit:\"))\n",
    "incr = int(input(\"enter the incr value:\"))\n",
    "\n",
    "while value<limit:\n",
    "    if value==5:\n",
    "        break\n",
    "        import pandas as pd\n",
    "        df = pd.DataFrame({input(\"enter the key :\"):input(\"enter the value :\").split(),\n",
    "                          input(\"enter the key :\"):input(\"enter the value :\").split(),\n",
    "                          input(\"enter the key :\"):input(\"enter the value :\").split(),\n",
    "                          input(\"enter the key :\"):input(\"enter the value :\").split()})\n",
    "        print(df)\n",
    "    value+=incr\n",
    "    print(\"\\nnow you can go forward\",value)\n",
    "else:\n",
    "    print(\"your loop is over...\")"
   ]
  },
  {
   "cell_type": "code",
   "execution_count": 14,
   "id": "c675c626",
   "metadata": {},
   "outputs": [
    {
     "data": {
      "text/plain": [
       "{'n': 17, 'a': 17, 'm': 17, 'e': 17}"
      ]
     },
     "execution_count": 14,
     "metadata": {},
     "output_type": "execute_result"
    }
   ],
   "source": [
    "d1 ={}\n",
    "key = [(\"name\"),\"age\"]\n",
    "value = [\"saloni\",17]\n",
    "d1.fromkeys(key[0],value[1])"
   ]
  },
  {
   "cell_type": "code",
   "execution_count": 1,
   "id": "51bb1186",
   "metadata": {},
   "outputs": [
    {
     "name": "stdout",
     "output_type": "stream",
     "text": [
      "enter the value:1\n",
      "enter the limit:6\n",
      "enter the incr value:1\n",
      "\n",
      "now you can go forward 5\n",
      "your loop is over...\n"
     ]
    }
   ],
   "source": [
    "value = int(input(\"enter the value:\"))\n",
    "limit = int(input(\"enter the limit:\"))\n",
    "incr = int(input(\"enter the incr value:\"))\n",
    "\n",
    "while value<limit:\n",
    "    value+=incr\n",
    "    if value==5:\n",
    "        print(\"\\nnow you can go forward\",value)\n",
    "        continue\n",
    "        import pandas as pd\n",
    "        df = pd.DataFrame({input(\"enter the key :\"):input(\"enter the value :\").split(),\n",
    "                          input(\"enter the key :\"):input(\"enter the value :\").split(),\n",
    "                          input(\"enter the key :\"):input(\"enter the value :\").split(),\n",
    "                          input(\"enter the key :\"):input(\"enter the value :\").split()})\n",
    "        print(df)\n",
    "\n",
    "else:\n",
    "    print(\"your loop is over...\")"
   ]
  },
  {
   "cell_type": "code",
   "execution_count": 2,
   "id": "0a1ab255",
   "metadata": {},
   "outputs": [
    {
     "name": "stdout",
     "output_type": "stream",
     "text": [
      "The value of a is : 0\n",
      "The value of a is : 1\n",
      "The value of a is : 2\n",
      "Hello Saloni\n",
      "The value of a is : 4\n",
      "The value of a is : 5\n",
      "Loop is over......\n"
     ]
    }
   ],
   "source": [
    "a = -1\n",
    "while a < 5 :\n",
    "    a+=1\n",
    "    if a == 3:\n",
    "        print(\"Hello Saloni\")\n",
    "        continue\n",
    "    print(\"The value of a is :\",a)\n",
    "else:\n",
    "    print(\"Loop is over......\")"
   ]
  },
  {
   "cell_type": "code",
   "execution_count": 17,
   "id": "5dca7bdf",
   "metadata": {},
   "outputs": [
    {
     "name": "stdout",
     "output_type": "stream",
     "text": [
      "enter the value :7\n",
      "enter the limit :71\n",
      "enter the incr :7\n",
      "14\n",
      "28\n",
      "35\n",
      "49\n",
      "56\n",
      "70\n",
      "77\n"
     ]
    }
   ],
   "source": [
    "value = int(input(\"enter the value :\"))\n",
    "limit = int(input(\"enter the limit :\"))\n",
    "incr = int(input(\"enter the incr :\"))\n",
    "\n",
    "while value < limit:\n",
    "    value+=incr\n",
    "    if value%3==0:\n",
    "        continue\n",
    "    print(value)\n",
    "    \n",
    "    \n",
    "    \n",
    "    "
   ]
  },
  {
   "cell_type": "markdown",
   "id": "a2d0e264",
   "metadata": {},
   "source": [
    "str1 = \"hello saloni\""
   ]
  },
  {
   "cell_type": "code",
   "execution_count": null,
   "id": "aed6e15c",
   "metadata": {},
   "outputs": [
    {
     "name": "stdout",
     "output_type": "stream",
     "text": [
      "enter the value:Hello Saloni\n",
      "enter the value:o\n"
     ]
    }
   ],
   "source": [
    "a = input(\"enter the value:\")\n",
    "b = a.count(input(\"enter the value:\"))\n",
    "c = input(\"enter the value:\")\n",
    "d = a.replace(b,c)\n",
    "print(d)\n"
   ]
  },
  {
   "cell_type": "code",
   "execution_count": 2,
   "id": "b4b36bc0",
   "metadata": {},
   "outputs": [
    {
     "name": "stdout",
     "output_type": "stream",
     "text": [
      "enter the value:saunhabajshajashaasjajshbahsjnchdvcasj\n",
      "enter the replacing value:s\n",
      "enter the replaced value with old value :d\n",
      "7\n",
      "daunhabajdhajadhaadjajdhbahdjnchdvcadj\n"
     ]
    }
   ],
   "source": [
    "a = input(\"enter the value:\")\n",
    "b = input(\"enter the replacing value:\")\n",
    "c = input(\"enter the replaced value with old value :\")\n",
    "print(a.count(b))\n",
    "print(a.replace(b,c))"
   ]
  },
  {
   "cell_type": "code",
   "execution_count": 1,
   "id": "f58c9174",
   "metadata": {},
   "outputs": [],
   "source": [
    "l1=['saloni','sean','simran','yash','rahul','ankit']"
   ]
  },
  {
   "cell_type": "code",
   "execution_count": 7,
   "id": "eb39af61",
   "metadata": {},
   "outputs": [
    {
     "name": "stdout",
     "output_type": "stream",
     "text": [
      "enter the value that you want to replaced:simran\n"
     ]
    },
    {
     "ename": "NameError",
     "evalue": "name 'b' is not defined",
     "output_type": "error",
     "traceback": [
      "\u001b[1;31m---------------------------------------------------------------------------\u001b[0m",
      "\u001b[1;31mNameError\u001b[0m                                 Traceback (most recent call last)",
      "Input \u001b[1;32mIn [7]\u001b[0m, in \u001b[0;36m<cell line: 2>\u001b[1;34m()\u001b[0m\n\u001b[0;32m      1\u001b[0m a\u001b[38;5;241m=\u001b[39m\u001b[38;5;28minput\u001b[39m(\u001b[38;5;124m'\u001b[39m\u001b[38;5;124menter the value that you want to replaced:\u001b[39m\u001b[38;5;124m'\u001b[39m)\n\u001b[0;32m      2\u001b[0m \u001b[38;5;28;01mfor\u001b[39;00m k \u001b[38;5;129;01min\u001b[39;00m l1:\n\u001b[1;32m----> 3\u001b[0m     \u001b[38;5;28;01mif\u001b[39;00m \u001b[43mb\u001b[49m \u001b[38;5;241m==\u001b[39m \u001b[38;5;28mstr\u001b[39m(a):\n\u001b[0;32m      4\u001b[0m         c \u001b[38;5;241m=\u001b[39m b\u001b[38;5;241m.\u001b[39mreplace(b,\u001b[38;5;28minput\u001b[39m(\u001b[38;5;124m'\u001b[39m\u001b[38;5;124menter the new value :\u001b[39m\u001b[38;5;124m'\u001b[39m))\n\u001b[0;32m      5\u001b[0m         l1\u001b[38;5;241m.\u001b[39minsert(\u001b[38;5;28mint\u001b[39m(\u001b[38;5;28minput\u001b[39m(\u001b[38;5;124m'\u001b[39m\u001b[38;5;124menter the pos no :\u001b[39m\u001b[38;5;124m'\u001b[39m)),a)\n",
      "\u001b[1;31mNameError\u001b[0m: name 'b' is not defined"
     ]
    }
   ],
   "source": [
    "a=input('enter the value that you want to replaced:')\n",
    "for k in l1:\n",
    "    if b == str(a):\n",
    "        c = b.replace(b,input('enter the new value :'))\n",
    "        l1.insert(int(input('enter the pos no :')),a)\n",
    "        print(l1)\n",
    "    "
   ]
  },
  {
   "cell_type": "code",
   "execution_count": null,
   "id": "120abd66",
   "metadata": {},
   "outputs": [],
   "source": []
  }
 ],
 "metadata": {
  "kernelspec": {
   "display_name": "Python 3 (ipykernel)",
   "language": "python",
   "name": "python3"
  },
  "language_info": {
   "codemirror_mode": {
    "name": "ipython",
    "version": 3
   },
   "file_extension": ".py",
   "mimetype": "text/x-python",
   "name": "python",
   "nbconvert_exporter": "python",
   "pygments_lexer": "ipython3",
   "version": "3.9.12"
  }
 },
 "nbformat": 4,
 "nbformat_minor": 5
}
