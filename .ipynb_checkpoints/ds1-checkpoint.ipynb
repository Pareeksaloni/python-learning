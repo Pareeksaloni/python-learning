{
 "cells": [
  {
   "cell_type": "code",
   "execution_count": 2,
   "id": "d2daf297",
   "metadata": {},
   "outputs": [],
   "source": [
    " import numpy as np"
   ]
  },
  {
   "cell_type": "code",
   "execution_count": 3,
   "id": "d01d6afd",
   "metadata": {},
   "outputs": [
    {
     "data": {
      "text/plain": [
       "'1.21.5'"
      ]
     },
     "execution_count": 3,
     "metadata": {},
     "output_type": "execute_result"
    }
   ],
   "source": [
    "np.__version__"
   ]
  },
  {
   "cell_type": "code",
   "execution_count": 4,
   "id": "e9de100c",
   "metadata": {},
   "outputs": [],
   "source": [
    "ar = np.array([[[2,5,6],[7,9,3],[6,4,5]]])\n",
    "ar1 = np.array([[[1,8,3],[8,1,3],[5,3,2]]])"
   ]
  },
  {
   "cell_type": "code",
   "execution_count": 5,
   "id": "c12f88bf",
   "metadata": {},
   "outputs": [
    {
     "data": {
      "text/plain": [
       "numpy.ndarray"
      ]
     },
     "execution_count": 5,
     "metadata": {},
     "output_type": "execute_result"
    }
   ],
   "source": [
    "type(ar)"
   ]
  },
  {
   "cell_type": "code",
   "execution_count": 7,
   "id": "cd180721",
   "metadata": {},
   "outputs": [
    {
     "name": "stdout",
     "output_type": "stream",
     "text": [
      "the addition of both the array is :\n",
      "[[[ 3 13  9]\n",
      "  [15 10  6]\n",
      "  [11  7  7]]]\n"
     ]
    }
   ],
   "source": [
    "ar = np.array([[[2,5,6],[7,9,3],[6,4,5]]])\n",
    "ar1 = np.array([[[1,8,3],[8,1,3],[5,3,2]]])\n",
    "print(\"the addition of both the array is :\")\n",
    "ADD = ar+ar1\n",
    "print(ADD)"
   ]
  },
  {
   "cell_type": "code",
   "execution_count": 8,
   "id": "80d0e712",
   "metadata": {},
   "outputs": [
    {
     "name": "stdout",
     "output_type": "stream",
     "text": [
      "the subtraction of both the array is :\n",
      "[[[ 1 -3  3]\n",
      "  [-1  8  0]\n",
      "  [ 1  1  3]]]\n"
     ]
    }
   ],
   "source": [
    "ar = np.array([[[2,5,6],[7,9,3],[6,4,5]]])\n",
    "ar1 = np.array([[[1,8,3],[8,1,3],[5,3,2]]])\n",
    "print(\"the subtraction of both the array is :\")\n",
    "SUB = ar-ar1\n",
    "print(SUB)"
   ]
  },
  {
   "cell_type": "code",
   "execution_count": 9,
   "id": "162b9eed",
   "metadata": {},
   "outputs": [
    {
     "name": "stdout",
     "output_type": "stream",
     "text": [
      "the multiplication of both the array is :\n",
      "[[[ 2 40 18]\n",
      "  [56  9  9]\n",
      "  [30 12 10]]]\n"
     ]
    }
   ],
   "source": [
    "ar = np.array([[[2,5,6],[7,9,3],[6,4,5]]])\n",
    "ar1 = np.array([[[1,8,3],[8,1,3],[5,3,2]]])\n",
    "print(\"the multiplication of both the array is :\")\n",
    "MUL = ar*ar1\n",
    "print(MUL)"
   ]
  },
  {
   "cell_type": "code",
   "execution_count": 10,
   "id": "f34bb81f",
   "metadata": {},
   "outputs": [
    {
     "name": "stdout",
     "output_type": "stream",
     "text": [
      "the division of both the array is :\n",
      "[[[2.         0.625      2.        ]\n",
      "  [0.875      9.         1.        ]\n",
      "  [1.2        1.33333333 2.5       ]]]\n"
     ]
    }
   ],
   "source": [
    "ar = np.array([[[2,5,6],[7,9,3],[6,4,5]]])\n",
    "ar1 = np.array([[[1,8,3],[8,1,3],[5,3,2]]])\n",
    "print(\"the division of both the array is :\")\n",
    "DIV = ar/ar1\n",
    "print(DIV)"
   ]
  },
  {
   "cell_type": "code",
   "execution_count": 11,
   "id": "5c306804",
   "metadata": {},
   "outputs": [
    {
     "name": "stdout",
     "output_type": "stream",
     "text": [
      "the modulus of both the array is :\n",
      "[[[0 5 0]\n",
      "  [7 0 0]\n",
      "  [1 1 1]]]\n"
     ]
    }
   ],
   "source": [
    "ar = np.array([[[2,5,6],[7,9,3],[6,4,5]]])\n",
    "ar1 = np.array([[[1,8,3],[8,1,3],[5,3,2]]])\n",
    "print(\"the modulus of both the array is :\")\n",
    "MOD = ar%ar1\n",
    "print(MOD)"
   ]
  },
  {
   "cell_type": "code",
   "execution_count": 13,
   "id": "a850c6b3",
   "metadata": {},
   "outputs": [
    {
     "name": "stdout",
     "output_type": "stream",
     "text": [
      "the floor division of both the array is :\n",
      "[[[ 1 -3  3]\n",
      "  [-1  8  0]\n",
      "  [ 1  1  3]]]\n"
     ]
    }
   ],
   "source": [
    "ar = np.array([[[2,5,6],[7,9,3],[6,4,5]]])\n",
    "ar1 = np.array([[[1,8,3],[8,1,3],[5,3,2]]])\n",
    "print(\"the floor division of both the array is :\")\n",
    "FLOOR_DIV = ar-ar1\n",
    "print(FLOOR_DIV)"
   ]
  },
  {
   "cell_type": "code",
   "execution_count": 14,
   "id": "59c7bc6b",
   "metadata": {},
   "outputs": [],
   "source": [
    "ar = np.array([[[2,5,6],[7,9,3],[6,4,5]]])"
   ]
  },
  {
   "cell_type": "code",
   "execution_count": 15,
   "id": "a3e2b97a",
   "metadata": {},
   "outputs": [
    {
     "name": "stdout",
     "output_type": "stream",
     "text": [
      "[[[12 15 16]\n",
      "  [17 19 13]\n",
      "  [16 14 15]]]\n"
     ]
    }
   ],
   "source": [
    "print(ar+10)"
   ]
  },
  {
   "cell_type": "code",
   "execution_count": 4,
   "id": "71e1780c",
   "metadata": {},
   "outputs": [],
   "source": [
    "ar = np.array([[[2,5,6],[7,9,3],[6,4,5]]])\n",
    "ar1 = np.array([[[1,8,3],[8,1,3],[5,3,2]]])\n"
   ]
  },
  {
   "cell_type": "code",
   "execution_count": 5,
   "id": "09eb15a4",
   "metadata": {},
   "outputs": [],
   "source": [
    "fil = ar-ar1"
   ]
  },
  {
   "cell_type": "code",
   "execution_count": 6,
   "id": "2865a848",
   "metadata": {},
   "outputs": [
    {
     "name": "stdout",
     "output_type": "stream",
     "text": [
      "[[[ 1 -3  3]\n",
      "  [-1  8  0]\n",
      "  [ 1  1  3]]]\n"
     ]
    }
   ],
   "source": [
    "print(fil)"
   ]
  },
  {
   "cell_type": "code",
   "execution_count": 9,
   "id": "b40e4e00",
   "metadata": {},
   "outputs": [
    {
     "data": {
      "text/plain": [
       "array([[[False, False,  True],\n",
       "        [False,  True, False],\n",
       "        [False, False,  True]]])"
      ]
     },
     "execution_count": 9,
     "metadata": {},
     "output_type": "execute_result"
    }
   ],
   "source": [
    "fil>1"
   ]
  },
  {
   "cell_type": "code",
   "execution_count": 10,
   "id": "3ddf09d6",
   "metadata": {},
   "outputs": [
    {
     "data": {
      "text/plain": [
       "array([3, 8, 3])"
      ]
     },
     "execution_count": 10,
     "metadata": {},
     "output_type": "execute_result"
    }
   ],
   "source": [
    "fil[fil>1]"
   ]
  },
  {
   "cell_type": "code",
   "execution_count": 11,
   "id": "431ac799",
   "metadata": {},
   "outputs": [
    {
     "data": {
      "text/plain": [
       "(array([[[2, 0, 2],\n",
       "         [0, 9, 1],\n",
       "         [1, 1, 2]]], dtype=int32),\n",
       " array([[[0, 5, 0],\n",
       "         [7, 0, 0],\n",
       "         [1, 1, 1]]], dtype=int32))"
      ]
     },
     "execution_count": 11,
     "metadata": {},
     "output_type": "execute_result"
    }
   ],
   "source": [
    "np.divmod(ar,ar1)"
   ]
  },
  {
   "cell_type": "code",
   "execution_count": 12,
   "id": "a18be1af",
   "metadata": {},
   "outputs": [
    {
     "data": {
      "text/plain": [
       "array([[[2, 5, 6],\n",
       "        [7, 9, 3],\n",
       "        [6, 4, 5]]])"
      ]
     },
     "execution_count": 12,
     "metadata": {},
     "output_type": "execute_result"
    }
   ],
   "source": [
    "ar"
   ]
  },
  {
   "cell_type": "code",
   "execution_count": 13,
   "id": "004a6990",
   "metadata": {},
   "outputs": [
    {
     "data": {
      "text/plain": [
       "array([[[1, 8, 3],\n",
       "        [8, 1, 3],\n",
       "        [5, 3, 2]]])"
      ]
     },
     "execution_count": 13,
     "metadata": {},
     "output_type": "execute_result"
    }
   ],
   "source": [
    "ar1"
   ]
  },
  {
   "cell_type": "code",
   "execution_count": 14,
   "id": "694e818f",
   "metadata": {},
   "outputs": [
    {
     "data": {
      "text/plain": [
       "array([[[0, 0, 0],\n",
       "        [0, 0, 0],\n",
       "        [0, 0, 0]]], dtype=int32)"
      ]
     },
     "execution_count": 14,
     "metadata": {},
     "output_type": "execute_result"
    }
   ],
   "source": [
    "np.reciprocal(ar)"
   ]
  },
  {
   "cell_type": "code",
   "execution_count": 15,
   "id": "8895173b",
   "metadata": {},
   "outputs": [
    {
     "data": {
      "text/plain": [
       "array([[[1, 0, 0],\n",
       "        [0, 1, 0],\n",
       "        [0, 0, 0]]], dtype=int32)"
      ]
     },
     "execution_count": 15,
     "metadata": {},
     "output_type": "execute_result"
    }
   ],
   "source": [
    "np.reciprocal(ar1)"
   ]
  },
  {
   "cell_type": "code",
   "execution_count": 20,
   "id": "fcd74526",
   "metadata": {},
   "outputs": [
    {
     "data": {
      "text/plain": [
       "2.24"
      ]
     },
     "execution_count": 20,
     "metadata": {},
     "output_type": "execute_result"
    }
   ],
   "source": [
    "np.percentile(ar,3)"
   ]
  },
  {
   "cell_type": "code",
   "execution_count": 21,
   "id": "da555df3",
   "metadata": {},
   "outputs": [
    {
     "data": {
      "text/plain": [
       "array([[[2, 5, 6],\n",
       "        [7, 9, 3],\n",
       "        [6, 4, 5]]])"
      ]
     },
     "execution_count": 21,
     "metadata": {},
     "output_type": "execute_result"
    }
   ],
   "source": [
    "ar"
   ]
  },
  {
   "cell_type": "code",
   "execution_count": null,
   "id": "287cb39f",
   "metadata": {},
   "outputs": [],
   "source": []
  }
 ],
 "metadata": {
  "kernelspec": {
   "display_name": "Python 3 (ipykernel)",
   "language": "python",
   "name": "python3"
  },
  "language_info": {
   "codemirror_mode": {
    "name": "ipython",
    "version": 3
   },
   "file_extension": ".py",
   "mimetype": "text/x-python",
   "name": "python",
   "nbconvert_exporter": "python",
   "pygments_lexer": "ipython3",
   "version": "3.9.12"
  }
 },
 "nbformat": 4,
 "nbformat_minor": 5
}
