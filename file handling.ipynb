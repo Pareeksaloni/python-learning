{
 "cells": [
  {
   "cell_type": "code",
   "execution_count": 2,
   "id": "7888ca4b",
   "metadata": {},
   "outputs": [
    {
     "name": "stdout",
     "output_type": "stream",
     "text": [
      "enter the path name :file.txt\n",
      "enter the mode :w\n",
      "enter the answer :yes\n",
      "enter the mode to open file :write\n"
     ]
    },
    {
     "ename": "AttributeError",
     "evalue": "'_io.TextIOWrapper' object has no attribute 'M'",
     "output_type": "error",
     "traceback": [
      "\u001b[1;31m---------------------------------------------------------------------------\u001b[0m",
      "\u001b[1;31mAttributeError\u001b[0m                            Traceback (most recent call last)",
      "Input \u001b[1;32mIn [2]\u001b[0m, in \u001b[0;36m<cell line: 5>\u001b[1;34m()\u001b[0m\n\u001b[0;32m      5\u001b[0m \u001b[38;5;28;01mif\u001b[39;00m ques\u001b[38;5;241m==\u001b[39m\u001b[38;5;124m\"\u001b[39m\u001b[38;5;124myes\u001b[39m\u001b[38;5;124m\"\u001b[39m:\n\u001b[0;32m      6\u001b[0m     M \u001b[38;5;241m=\u001b[39m \u001b[38;5;28minput\u001b[39m(\u001b[38;5;124m\"\u001b[39m\u001b[38;5;124menter the mode to open file :\u001b[39m\u001b[38;5;124m\"\u001b[39m)\n\u001b[1;32m----> 7\u001b[0m     \u001b[43mfile\u001b[49m\u001b[38;5;241;43m.\u001b[39;49m\u001b[43mM\u001b[49m()\n",
      "\u001b[1;31mAttributeError\u001b[0m: '_io.TextIOWrapper' object has no attribute 'M'"
     ]
    }
   ],
   "source": [
    "from colorama import Fore,Back\n",
    "import time\n",
    "import pandas as pd\n",
    "dict1 = {input(\"enter the key :\") : input(\"enter the value :\").split(),\n",
    "      input(\"enter the key :\") : input(\"enter the value :\").split()}\n",
    "df = pd.DataFrame(dict1)\n",
    "file = open(\"shas.txt\",\"w+\")\n",
    "file.write(Fore.CYAN+Back.BLACK+str(df))\n",
    "file.seek(0)\n",
    "for k in file.read():\n",
    "    time.sleep(0.02)\n",
    "    print(k,end = \"\")"
   ]
  },
  {
   "cell_type": "code",
   "execution_count": null,
   "id": "15fe5650",
   "metadata": {},
   "outputs": [],
   "source": []
  },
  {
   "cell_type": "code",
   "execution_count": 1,
   "id": "cd5e294d",
   "metadata": {},
   "outputs": [
    {
     "name": "stdout",
     "output_type": "stream",
     "text": [
      "enter the path name :file1.txt\n",
      "enter the mode :w\n",
      "do you want to write something :yes\n",
      "write the text :hello there !! I am new here .\n",
      "which type of mode you want ?write\n",
      "30\n"
     ]
    }
   ],
   "source": [
    "path = input(\"enter the path name :\")\n",
    "mode = input(\"enter the mode :\")\n",
    "file = open(path , mode)\n",
    "ques = input(\"do you want to write something :\")\n",
    "if ques==\"yes\":\n",
    "    text = input(\"write the text :\")\n",
    "    ques1 = input(\"which type of mode you want ?\")\n",
    "    if ques1 == \"write\":\n",
    "        print(file.write(text))\n",
    "    elif ques1 == \"read\":\n",
    "        print(file.read())\n",
    "    elif ques1 == \"create\":\n",
    "        print(file.create())\n",
    "    elif ques1 == \"append\":\n",
    "        print(file.append(text))\n",
    "    else:\n",
    "        print(file.close())\n",
    "else:\n",
    "    print(file.close())"
   ]
  },
  {
   "cell_type": "code",
   "execution_count": 2,
   "id": "fec99d40",
   "metadata": {},
   "outputs": [
    {
     "name": "stdout",
     "output_type": "stream",
     "text": [
      "enter the path name :saloni.txt\n",
      "enter the mode :w\n",
      "do you want to write something :yes\n",
      "which type of mode you want ?write\n",
      "write the text :hello there !! I am a learner .\n",
      "31\n"
     ]
    }
   ],
   "source": [
    "path = input(\"enter the path name :\")\n",
    "mode = input(\"enter the mode :\")\n",
    "file = open(path , mode)\n",
    "ques = input(\"do you want to write something :\")\n",
    "if ques==\"yes\":\n",
    "    ques1 = input(\"which type of mode you want ?\")\n",
    "    if ques1 == \"write\":\n",
    "        print(file.write(input(\"write the text :\")))\n",
    "    elif ques1 == \"read\":\n",
    "        print(file.read())\n",
    "    elif ques1 == \"create\":\n",
    "        print(file.create())\n",
    "    elif ques1 == \"append\":\n",
    "        print(file.append(input(\"write the text :\")))\n",
    "    else:\n",
    "        print(file.close())\n",
    "else:\n",
    "    print(file.close())"
   ]
  },
  {
   "cell_type": "code",
   "execution_count": 3,
   "id": "f55fe567",
   "metadata": {},
   "outputs": [
    {
     "name": "stdout",
     "output_type": "stream",
     "text": [
      "enter the path name :saloni0.txt\n",
      "enter the mode :w\n",
      "do you want to write something :yes\n",
      "which type of mode you want ?write\n",
      "write the text :hello...I am a learner .\n"
     ]
    }
   ],
   "source": [
    "path = input(\"enter the path name :\")\n",
    "mode = input(\"enter the mode :\")\n",
    "file = open(path , mode)\n",
    "ques = input(\"do you want to write something :\")\n",
    "if ques==\"yes\":\n",
    "    ques1 = input(\"which type of mode you want ?\")\n",
    "    if ques1 == \"write\":\n",
    "        file.write(input(\"write the text :\"))\n",
    "    elif ques1 == \"read\":\n",
    "        file.read()\n",
    "    elif ques1 == \"create\":\n",
    "        file.create()\n",
    "    elif ques1 == \"append\":\n",
    "        file.append(input(\"write the text :\"))\n",
    "    else:\n",
    "        file.close()\n",
    "else:\n",
    "    file.close()"
   ]
  },
  {
   "cell_type": "code",
   "execution_count": 4,
   "id": "15738f37",
   "metadata": {},
   "outputs": [
    {
     "name": "stdout",
     "output_type": "stream",
     "text": [
      "enter the key :Name\n",
      "enter the value :Sean Jack\n",
      "enter the key :Address\n",
      "enter the value :Jaipur Delhi\n",
      "\u001b[36m\u001b[40m   Name Address\n",
      "0  Sean  Jaipur\n",
      "1  Jack   Delhi"
     ]
    }
   ],
   "source": [
    "from colorama import Fore,Back\n",
    "import time\n",
    "import pandas as pd\n",
    "dict1 = {input(\"enter the key :\") : input(\"enter the value :\").split(),\n",
    "      input(\"enter the key :\") : input(\"enter the value :\").split()}\n",
    "df = pd.DataFrame(dict1)\n",
    "file = open(\"shas.txt\",\"w+\")\n",
    "file.write(Fore.CYAN+Back.BLACK+str(df))\n",
    "file.seek(0)\n",
    "for k in file.read():\n",
    "    time.sleep(0.02)\n",
    "    print(k,end = \"\")"
   ]
  },
  {
   "cell_type": "code",
   "execution_count": 5,
   "id": "99b3eff2",
   "metadata": {},
   "outputs": [
    {
     "name": "stdout",
     "output_type": "stream",
     "text": [
      "\u001b[36m\u001b[40m     name  age\n",
      "0  saloni   19\n",
      "1    yash   19\n",
      "2  suhani   21\n",
      "3  arpita   18\n",
      "4  roshan   18"
     ]
    }
   ],
   "source": [
    "from colorama import Fore,Back\n",
    "import time\n",
    "import pandas as pd\n",
    "dict1 = {\"name\" : [\"saloni\", \"yash\" ,\"suhani\", \"arpita\", \"roshan\"],\n",
    "      \"age\": [19,19,21,18,18] }\n",
    "df = pd.DataFrame(dict1)\n",
    "file = open(\"shas.txt\",\"w+\")\n",
    "file.write(Fore.CYAN+Back.BLACK+str(df))\n",
    "file.seek(0)\n",
    "for k in file.read():\n",
    "    time.sleep(0.02)\n",
    "    print(k,end = \"\")"
   ]
  },
  {
   "cell_type": "code",
   "execution_count": null,
   "id": "d07d427b",
   "metadata": {},
   "outputs": [],
   "source": [
    "import random as rd\n",
    "from termcolor import colored\n",
    "file = open(\"quote.txt\",\"x\")\n",
    "file.write('You Win Without A Problem , It Justs Victory\\nIf You Win With lots of Problems , You Will Make History')"
   ]
  },
  {
   "cell_type": "code",
   "execution_count": 3,
   "id": "69541ee5",
   "metadata": {},
   "outputs": [
    {
     "ename": "ModuleNotFoundError",
     "evalue": "No module named 'termcolor'",
     "output_type": "error",
     "traceback": [
      "\u001b[1;31m---------------------------------------------------------------------------\u001b[0m",
      "\u001b[1;31mModuleNotFoundError\u001b[0m                       Traceback (most recent call last)",
      "Input \u001b[1;32mIn [3]\u001b[0m, in \u001b[0;36m<cell line: 2>\u001b[1;34m()\u001b[0m\n\u001b[0;32m      1\u001b[0m \u001b[38;5;28;01mimport\u001b[39;00m \u001b[38;5;21;01mrandom\u001b[39;00m \u001b[38;5;28;01mas\u001b[39;00m \u001b[38;5;21;01mrd\u001b[39;00m\n\u001b[1;32m----> 2\u001b[0m \u001b[38;5;28;01mfrom\u001b[39;00m \u001b[38;5;21;01mtermcolor\u001b[39;00m \u001b[38;5;28;01mimport\u001b[39;00m colored\n\u001b[0;32m      4\u001b[0m N \u001b[38;5;241m=\u001b[39m \u001b[38;5;241m10\u001b[39m\n\u001b[0;32m      5\u001b[0m MAX \u001b[38;5;241m=\u001b[39m \u001b[38;5;241m100\u001b[39m\n",
      "\u001b[1;31mModuleNotFoundError\u001b[0m: No module named 'termcolor'"
     ]
    }
   ],
   "source": []
  },
  {
   "cell_type": "code",
   "execution_count": 4,
   "id": "d461d8d0",
   "metadata": {},
   "outputs": [
    {
     "name": "stdout",
     "output_type": "stream",
     "text": [
      "\u001b[36m\u001b[40m     name  age\n",
      "0  saloni   19\n",
      "1    yash   19\n",
      "2  suhani   21\n",
      "3  arpita   18\n",
      "4  roshan   18"
     ]
    }
   ],
   "source": [
    "from colorama import Fore,Back\n",
    "import time\n",
    "import pandas as pd\n",
    "dict1 = {\"name\" : [\"saloni\", \"yash\" ,\"suhani\", \"arpita\", \"roshan\"],\n",
    "      \"age\": [19,19,21,18,18] }\n",
    "df = pd.DataFrame(dict1)\n",
    "file = open(\"shas.CFG\",\"w+\")\n",
    "file.write(Fore.CYAN+Back.BLACK+str(df))\n",
    "file.seek(0)\n",
    "for k in file.read():\n",
    "    time.sleep(0.02)\n",
    "    print(k,end = \"\")"
   ]
  },
  {
   "cell_type": "code",
   "execution_count": 1,
   "id": "f7e127e9",
   "metadata": {},
   "outputs": [],
   "source": [
    "file = open(\"tiger.txt\",\"w\")\n",
    "file.write(\"The tiger was first scientifically described in 1758.\\nIt once ranged widely from the Eastern Anatolia Region in the west to the Amur River basin in the east, and in the south from the foothills of the Himalayas to Bali in the Sunda Islands.\\n Since the early 20th century, tiger populations have lost at least 93% of their historic range and have been extirpated from Western and Central Asia, the islands of Java and Bali, and in large areas of Southeast and South Asia and China.\")\n",
    "file.close()"
   ]
  },
  {
   "cell_type": "code",
   "execution_count": 2,
   "id": "35212f7f",
   "metadata": {},
   "outputs": [
    {
     "name": "stdout",
     "output_type": "stream",
     "text": [
      "0 => The tiger was first scientifically described in 1758.\n",
      "\n",
      "1 => It once ranged widely from the Eastern Anatolia Region in the west to the Amur River basin in the east, and in the south from the foothills of the Himalayas to Bali in the Sunda Islands.\n",
      "\n",
      "2 =>  Since the early 20th century, tiger populations have lost at least 93% of their historic range and have been extirpated from Western and Central Asia, the islands of Java and Bali, and in large areas of Southeast and South Asia and China.\n"
     ]
    }
   ],
   "source": [
    "file = open(\"tiger.txt\")\n",
    "data = file.readlines()\n",
    "for k in data:\n",
    "    print(data.index(k),\"=>\",k)"
   ]
  },
  {
   "cell_type": "code",
   "execution_count": 3,
   "id": "c7007d93",
   "metadata": {},
   "outputs": [
    {
     "ename": "AttributeError",
     "evalue": "'list' object has no attribute 'replace'",
     "output_type": "error",
     "traceback": [
      "\u001b[1;31m---------------------------------------------------------------------------\u001b[0m",
      "\u001b[1;31mAttributeError\u001b[0m                            Traceback (most recent call last)",
      "Input \u001b[1;32mIn [3]\u001b[0m, in \u001b[0;36m<cell line: 3>\u001b[1;34m()\u001b[0m\n\u001b[0;32m      2\u001b[0m data \u001b[38;5;241m=\u001b[39m file\u001b[38;5;241m.\u001b[39mreadlines()\n\u001b[0;32m      3\u001b[0m \u001b[38;5;28;01mfor\u001b[39;00m k \u001b[38;5;129;01min\u001b[39;00m data:\n\u001b[1;32m----> 4\u001b[0m     \u001b[38;5;28mprint\u001b[39m(\u001b[43mdata\u001b[49m\u001b[38;5;241;43m.\u001b[39;49m\u001b[43mreplace\u001b[49m(\u001b[38;5;124m\"\u001b[39m\u001b[38;5;124mtiger\u001b[39m\u001b[38;5;124m\"\u001b[39m,\u001b[38;5;124m\"\u001b[39m\u001b[38;5;124mlion\u001b[39m\u001b[38;5;124m\"\u001b[39m),\u001b[38;5;124m\"\u001b[39m\u001b[38;5;124m=>\u001b[39m\u001b[38;5;124m\"\u001b[39m,k)\n",
      "\u001b[1;31mAttributeError\u001b[0m: 'list' object has no attribute 'replace'"
     ]
    }
   ],
   "source": [
    "file = open(\"tiger.txt\")\n",
    "data = file.readlines()\n",
    "for k in data:\n",
    "    print(data.replace(\"tiger\",\"lion\"),\"=>\",k)"
   ]
  },
  {
   "cell_type": "code",
   "execution_count": 4,
   "id": "03ae47d3",
   "metadata": {},
   "outputs": [
    {
     "data": {
      "text/plain": [
       "480"
      ]
     },
     "execution_count": 4,
     "metadata": {},
     "output_type": "execute_result"
    }
   ],
   "source": [
    "file = open(\"tiger.txt\",\"w\")\n",
    "file.write(\"The tiger was first scientifically described in 1758.\\nIt once ranged widely from the Eastern Anatolia Region in the west to the Amur River basin in the east, and in the south from the foothills of the Himalayas to Bali in the Sunda Islands.\\n Since the early 20th century, tiger populations have lost at least 93% of their historic range and have been extirpated from Western and Central Asia, the islands of Java and Bali, and in large areas of Southeast and South Asia and China.\")\n"
   ]
  },
  {
   "cell_type": "code",
   "execution_count": 7,
   "id": "aaa9622b",
   "metadata": {},
   "outputs": [
    {
     "name": "stdout",
     "output_type": "stream",
     "text": [
      "The lion was first scientifically described in 1758.\n",
      "\n"
     ]
    }
   ],
   "source": [
    "file = open(\"tiger.txt\")\n",
    "data = file.readline()\n",
    "print(data.replace(\"tiger\",\"lion\"))"
   ]
  },
  {
   "cell_type": "code",
   "execution_count": 8,
   "id": "5c6eee88",
   "metadata": {},
   "outputs": [
    {
     "name": "stdout",
     "output_type": "stream",
     "text": [
      "It once ranged widely from the Eastern Anatolia Region in the west to the Amur River basin in the east, and in the south from the foothills of the Himalayas to Bali in the Sunda Islands.\n",
      "\n"
     ]
    }
   ],
   "source": [
    "data = file.readline()\n",
    "print(data.replace(\"tiger\",\"lion\"))"
   ]
  },
  {
   "cell_type": "code",
   "execution_count": 9,
   "id": "425a5e87",
   "metadata": {},
   "outputs": [
    {
     "name": "stdout",
     "output_type": "stream",
     "text": [
      " Since the early 20th century, lion populations have lost at least 93% of their historic range and have been extirpated from Western and Central Asia, the islands of Java and Bali, and in large areas of Southeast and South Asia and China.\n"
     ]
    }
   ],
   "source": [
    "data = file.readline()\n",
    "print(data.replace(\"tiger\",\"lion\"))"
   ]
  },
  {
   "cell_type": "code",
   "execution_count": 1,
   "id": "36f5587d",
   "metadata": {},
   "outputs": [
    {
     "name": "stdout",
     "output_type": "stream",
     "text": [
      "Requirement already satisfied: Pillow in c:\\users\\hp\\anaconda3\\lib\\site-packages (9.0.1)\n",
      "Note: you may need to restart the kernel to use updated packages.\n"
     ]
    }
   ],
   "source": [
    "pip install Pillow"
   ]
  },
  {
   "cell_type": "code",
   "execution_count": 7,
   "id": "aa72c4fe",
   "metadata": {},
   "outputs": [
    {
     "name": "stdout",
     "output_type": "stream",
     "text": [
      "Enter the path :C:\\Users\\hp\\Downloads\\11.jpeg\n"
     ]
    }
   ],
   "source": [
    "from PIL import Image\n",
    "\n",
    "img = Image.open(input(\"Enter the path :\"))\n",
    "img.show()"
   ]
  },
  {
   "cell_type": "code",
   "execution_count": null,
   "id": "50f2e82e",
   "metadata": {},
   "outputs": [],
   "source": []
  }
 ],
 "metadata": {
  "kernelspec": {
   "display_name": "Python 3 (ipykernel)",
   "language": "python",
   "name": "python3"
  },
  "language_info": {
   "codemirror_mode": {
    "name": "ipython",
    "version": 3
   },
   "file_extension": ".py",
   "mimetype": "text/x-python",
   "name": "python",
   "nbconvert_exporter": "python",
   "pygments_lexer": "ipython3",
   "version": "3.9.12"
  }
 },
 "nbformat": 4,
 "nbformat_minor": 5
}
