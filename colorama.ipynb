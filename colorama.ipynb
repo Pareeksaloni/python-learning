{
 "cells": [
  {
   "cell_type": "code",
   "execution_count": 4,
   "id": "622aaef1",
   "metadata": {},
   "outputs": [],
   "source": [
    "import colorama\n",
    "from colorama import Fore,Back,Style"
   ]
  },
  {
   "cell_type": "code",
   "execution_count": 5,
   "id": "3dbb33c9",
   "metadata": {},
   "outputs": [
    {
     "name": "stdout",
     "output_type": "stream",
     "text": [
      "enter your text :hello miss saloni .... how are you\n",
      "\u001b[33m\u001b[40mhello miss saloni .... how are you\n"
     ]
    }
   ],
   "source": [
    "a=input('enter your text :')\n",
    "print(Fore.YELLOW+Back.BLACK+a)"
   ]
  },
  {
   "cell_type": "code",
   "execution_count": null,
   "id": "586683f1",
   "metadata": {},
   "outputs": [],
   "source": []
  }
 ],
 "metadata": {
  "kernelspec": {
   "display_name": "Python 3 (ipykernel)",
   "language": "python",
   "name": "python3"
  },
  "language_info": {
   "codemirror_mode": {
    "name": "ipython",
    "version": 3
   },
   "file_extension": ".py",
   "mimetype": "text/x-python",
   "name": "python",
   "nbconvert_exporter": "python",
   "pygments_lexer": "ipython3",
   "version": "3.9.12"
  }
 },
 "nbformat": 4,
 "nbformat_minor": 5
}
