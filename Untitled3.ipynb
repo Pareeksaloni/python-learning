{
 "cells": [
  {
   "cell_type": "code",
   "execution_count": 6,
   "id": "208bdb40",
   "metadata": {},
   "outputs": [
    {
     "name": "stdout",
     "output_type": "stream",
     "text": [
      "Enter the no.1\n",
      "1\n"
     ]
    },
    {
     "data": {
      "text/plain": [
       "'one'"
      ]
     },
     "execution_count": 6,
     "metadata": {},
     "output_type": "execute_result"
    }
   ],
   "source": [
    "list = int(input(\"Enter the no.\"))\n",
    "a = ['','one','two','Three','Four','Five','Six','Seven','Eight','Nine','Ten']\n",
    "print(list)\n",
    "a[list]"
   ]
  },
  {
   "cell_type": "markdown",
   "id": "c22cbd78",
   "metadata": {},
   "source": [
    "# {\n",
    " \"cells\": [\n",
    "  {\n",
    "   \"cell_type\": \"code\",\n",
    "   \"execution_count\": 4,\n",
    "   \"id\": \"e17521ea\",\n",
    "   \"metadata\": {},\n",
    "   \"outputs\": [\n",
    "    {\n",
    "     \"name\": \"stdout\",\n",
    "     \"output_type\": \"stream\",\n",
    "     \"text\": [\n",
    "      \"Enter the name of currency do you want to change in rupees :Dollar\\n\",\n",
    "      \"Enter the value in $ :234\\n\",\n",
    "      \"enter the value of one $ in Rupees :11\\n\",\n",
    "      \"Your result is : 2574.0 Rupees\\n\",\n",
    "      \"Your No. in word is : Two Thousand Five Hundred Seventy Four Rupees Only\\n\"\n",
    "     ]\n",
    "    }\n",
    "   ],\n",
    "   \"source\": [\n",
    "    \"a = input(\\\"Enter the name of currency do you want to change in rupees :\\\")\\n\",\n",
    "    \"\\n\",\n",
    "    \"if a == \\\"Dollar\\\":\\n\",\n",
    "    \"    a1 = int(input(\\\"Enter the value in $ :\\\"))\\n\",\n",
    "    \"    b1 = float(input(\\\"enter the value of one $ in Rupees :\\\"))\\n\",\n",
    "    \"    c = (a1*b1)\\n\",\n",
    "    \"    d = ['','One','Two','Three','Four','Five','Six','Seven','Eight','Nine','Ten','Eleven','Twelve','Thirteen','Fourteen','Fifteen','Sixteen','Seventeen','Eighteen','Nineteen']\\n\",\n",
    "    \"    e = ['','Ten','Twenty','Thirty','Forty','Fifty','Sixty','Seventy','Eighty','Ninety']\\n\",\n",
    "    \"    f = ['','One Hundred','Two Hundred','Three Hundred','Four Hundred','Five Hundred','Six Hundred','Seven Hundred','Eight Hundred','Nine Hundred',]\\n\",\n",
    "    \"    g = ['','One Thousand','Two Thousand','Three Thousand','Four Thousand','Five Thousand','Six Thousand','Seven Thousand','Eight Thousand','Nine Thousand','Ten Thousand']\\n\",\n",
    "    \"    print(\\\"Your result is :\\\",c,\\\"Rupees\\\")\\n\",\n",
    "    \"    h = int(c)\\n\",\n",
    "    \"    if c < 19 :\\n\",\n",
    "    \"        print(\\\"Your No. in word :\\\",d[h])\\n\",\n",
    "    \"    elif c <100 :\\n\",\n",
    "    \"        print(\\\"Your No. in word is : \\\",e[h//10] +\\\" \\\"+ d[h % 10 ])\\n\",\n",
    "    \"    elif c < 1000 :\\n\",\n",
    "    \"        print(\\\"Your No. in word is :\\\",f[h//100]+\\\" \\\"+ e[(h%100)//10] +\\\" \\\"+ d[h % 10 ])\\n\",\n",
    "    \"    elif c < 11000 :\\n\",\n",
    "    \"        print(\\\"Your No. in word is :\\\",g[h//1000]+\\\" \\\"+f[(h%1000)//100]+\\\" \\\"+ e[((h%1000)%100)//10] +\\\" \\\"+ d[h % 10 ],\\\"Rupees Only\\\")\\n\",\n",
    "    \"elif a == \\\"euro\\\":\\n\",\n",
    "    \"    a1 = float(input(\\\"Enter the Value in Euro:\\\"))\\n\",\n",
    "    \"    b1 = float(input(\\\"Enter the Value of one Euro in Rupees :\\\"))\\n\",\n",
    "    \"    c = a1*b1\\n\",\n",
    "    \"    d = ['','One','Two','Three','Four','Five','Six','Seven','Eight','Nine','Ten','Eleven','Twelve','Thirteen','Fourteen','Fifteen','Sixteen','Seventeen','Eighteen','Nineteen']\\n\",\n",
    "    \"    e = ['','Ten','Twenty','Thirty','Forty','Fifty','Sixty','Seventy','Eighty','Ninety']\\n\",\n",
    "    \"    f = ['','One Hundred','Two Hundred','Three Hundred','Four Hundred','Five Hundred','Six Hundred','Seven Hundred','Eight Hundred','Nine Hundred',]\\n\",\n",
    "    \"    g = ['','One Thousand','Two Thousand','Three Thousand','Four Thousand','Five Thousand','Six Thousand','Seven Thousand','Eight Thousand','Nine Thousand','Ten Thousand']\\n\",\n",
    "    \"    print(\\\"Your result is :\\\",c,\\\"Rupees\\\")\\n\",\n",
    "    \"    h = int(c)\\n\",\n",
    "    \"    if c < 19 :\\n\",\n",
    "    \"        print(\\\"Your No. in word :\\\",d[h])\\n\",\n",
    "    \"    elif c <100 :\\n\",\n",
    "    \"        print(\\\"Your No. in word is : \\\",e[h//10] +\\\" \\\"+ d[h % 10 ])\\n\",\n",
    "    \"    elif c < 1000 :\\n\",\n",
    "    \"        print(\\\"Your No. in word is :\\\",f[h//100]+\\\" \\\"+ e[(h%100)//10] +\\\" \\\"+ d[h % 10 ])\\n\",\n",
    "    \"    elif c < 11000 :\\n\",\n",
    "    \"        print(\\\"Your No. in word is :\\\",g[h//1000]+\\\" \\\"+f[(h%1000)//100]+\\\" \\\"+ e[((h%1000)%100)//10] +\\\" \\\"+ d[h % 10 ],\\\"Rupees Only\\\")\\n\",\n",
    "    \"elif a == \\\"yen\\\":\\n\",\n",
    "    \"    a1 = float(input(\\\"Enter the Value in Yen:\\\"))\\n\",\n",
    "    \"    b1 = float(input(\\\"Enter the Value of one yen in Rupees :\\\"))\\n\",\n",
    "    \"    c = a1*b1\\n\",\n",
    "    \"    d = ['','One','Two','Three','Four','Five','Six','Seven','Eight','Nine','Ten','Eleven','Twelve','Thirteen','Fourteen','Fifteen','Sixteen','Seventeen','Eighteen','Nineteen']\\n\",\n",
    "    \"    e = ['','Ten','Twenty','Thirty','Forty','Fifty','Sixty','Seventy','Eighty','Ninety']\\n\",\n",
    "    \"    f = ['','One Hundred','Two Hundred','Three Hundred','Four Hundred','Five Hundred','Six Hundred','Seven Hundred','Eight Hundred','Nine Hundred',]\\n\",\n",
    "    \"    g = ['','One Thousand','Two Thousand','Three Thousand','Four Thousand','Five Thousand','Six Thousand','Seven Thousand','Eight Thousand','Nine Thousand','Ten Thousand']\\n\",\n",
    "    \"    print(\\\"Your result is :\\\",c,\\\"Rupees\\\")\\n\",\n",
    "    \"    h = int(c)\\n\",\n",
    "    \"    if c < 19 :\\n\",\n",
    "    \"        print(\\\"Your No. in word :\\\",d[h])\\n\",\n",
    "    \"    elif c <100 :\\n\",\n",
    "    \"        print(\\\"Your No. in word is : \\\",e[h//10] +\\\" \\\"+ d[h % 10 ])\\n\",\n",
    "    \"    elif c < 1000 :\\n\",\n",
    "    \"        print(\\\"Your No. in word is :\\\",f[h//100]+\\\" \\\"+ e[(h%100)//10] +\\\" \\\"+ d[h % 10 ])\\n\",\n",
    "    \"    elif c < 11000 :\\n\",\n",
    "    \"        print(\\\"Your No. in word is :\\\",g[h//1000]+\\\" \\\"+f[(h%1000)//100]+\\\" \\\"+ e[((h%1000)%100)//10] +\\\" \\\"+ d[h % 10 ],\\\"Rupees Only\\\")\\n\",\n",
    "    \"elif a == \\\"afghani\\\" :\\n\",\n",
    "    \"    a1 = float(input(\\\"Enter the Value in Afghani:\\\"))\\n\",\n",
    "    \"    b1 = float(input(\\\"Enter the Value of one Afghani in Rupees :\\\"))\\n\",\n",
    "    \"    c = a1*b1\\n\",\n",
    "    \"    d = ['','One','Two','Three','Four','Five','Six','Seven','Eight','Nine','Ten','Eleven','Twelve','Thirteen','Fourteen','Fifteen','Sixteen','Seventeen','Eighteen','Nineteen']\\n\",\n",
    "    \"    e = ['','Ten','Twenty','Thirty','Forty','Fifty','Sixty','Seventy','Eighty','Ninety']\\n\",\n",
    "    \"    f = ['','One Hundred','Two Hundred','Three Hundred','Four Hundred','Five Hundred','Six Hundred','Seven Hundred','Eight Hundred','Nine Hundred',]\\n\",\n",
    "    \"    g = ['','One Thousand','Two Thousand','Three Thousand','Four Thousand','Five Thousand','Six Thousand','Seven Thousand','Eight Thousand','Nine Thousand','Ten Thousand']\\n\",\n",
    "    \"    print(\\\"Your result is :\\\",c,\\\"Rupees\\\")\\n\",\n",
    "    \"    h = int(c)\\n\",\n",
    "    \"    if c < 19 :\\n\",\n",
    "    \"        print(\\\"Your No. in word :\\\",d[h])\\n\",\n",
    "    \"    elif c <100 :\\n\",\n",
    "    \"        print(\\\"Your No. in word is : \\\",e[h//10] +\\\" \\\"+ d[h % 10 ])\\n\",\n",
    "    \"    elif c < 1000 :\\n\",\n",
    "    \"        print(\\\"Your No. in word is :\\\",f[h//100]+\\\" \\\"+ e[(h%100)//10] +\\\" \\\"+ d[h % 10 ])\\n\",\n",
    "    \"    elif c < 11000 :\\n\",\n",
    "    \"        print(\\\"Your No. in word is :\\\",g[h//1000]+\\\" \\\"+f[(h%1000)//100]+\\\" \\\"+ e[((h%1000)%100)//10] +\\\" \\\"+ d[h % 10 ],\\\"Rupees Only\\\")\\n\",\n",
    "    \"elif a == \\\"takka\\\" :\\n\",\n",
    "    \"    a1 = float(input(\\\"Enter the Value in Takka:\\\"))\\n\",\n",
    "    \"    b1 = float(input(\\\"Enter the Value of one Takka in Rupees :\\\"))\\n\",\n",
    "    \"    c = a1*b1\\n\",\n",
    "    \"    d = ['','One','Two','Three','Four','Five','Six','Seven','Eight','Nine','Ten','Eleven','Twelve','Thirteen','Fourteen','Fifteen','Sixteen','Seventeen','Eighteen','Nineteen']\\n\",\n",
    "    \"    e = ['','Ten','Twenty','Thirty','Forty','Fifty','Sixty','Seventy','Eighty','Ninety']\\n\",\n",
    "    \"    f = ['','One Hundred','Two Hundred','Three Hundred','Four Hundred','Five Hundred','Six Hundred','Seven Hundred','Eight Hundred','Nine Hundred',]\\n\",\n",
    "    \"    g = ['','One Thousand','Two Thousand','Three Thousand','Four Thousand','Five Thousand','Six Thousand','Seven Thousand','Eight Thousand','Nine Thousand','Ten Thousand']\\n\",\n",
    "    \"    print(\\\"Your result is :\\\",c,\\\"Rupees\\\")\\n\",\n",
    "    \"    h = int(c)\\n\",\n",
    "    \"    if c < 19 :\\n\",\n",
    "    \"        print(\\\"Your No. in word :\\\",d[h])\\n\",\n",
    "    \"    elif c <100 :\\n\",\n",
    "    \"        print(\\\"Your No. in word is : \\\",e[h//10] +\\\" \\\"+ d[h % 10 ])\\n\",\n",
    "    \"    elif c < 1000 :\\n\",\n",
    "    \"        print(\\\"Your No. in word is :\\\",f[h//100]+\\\" \\\"+ e[(h%100)//10] +\\\" \\\"+ d[h % 10 ])\\n\",\n",
    "    \"    elif c < 11000 :\\n\",\n",
    "    \"        print(\\\"Your No. in word is :\\\",g[h//1000]+\\\" \\\"+f[(h%1000)//100]+\\\" \\\"+ e[((h%1000)%100)//10] +\\\" \\\"+ d[h % 10 ],\\\"Rupees Only\\\")\\n\",\n",
    "    \"elif a == \\\"yuan\\\" :\\n\",\n",
    "    \"    a1 = float(input(\\\"Enter the Value in Yuan:\\\"))\\n\",\n",
    "    \"    b1 = float(input(\\\"Enter the Value of one Yuan in Rupees :\\\"))\\n\",\n",
    "    \"    c = a1*b1\\n\",\n",
    "    \"    d = ['','One','Two','Three','Four','Five','Six','Seven','Eight','Nine','Ten','Eleven','Twelve','Thirteen','Fourteen','Fifteen','Sixteen','Seventeen','Eighteen','Nineteen']\\n\",\n",
    "    \"    e = ['','Ten','Twenty','Thirty','Forty','Fifty','Sixty','Seventy','Eighty','Ninety']\\n\",\n",
    "    \"    f = ['','One Hundred','Two Hundred','Three Hundred','Four Hundred','Five Hundred','Six Hundred','Seven Hundred','Eight Hundred','Nine Hundred',]\\n\",\n",
    "    \"    g = ['','One Thousand','Two Thousand','Three Thousand','Four Thousand','Five Thousand','Six Thousand','Seven Thousand','Eight Thousand','Nine Thousand','Ten Thousand']\\n\",\n",
    "    \"    print(\\\"Your result is :\\\",c,\\\"Rupees\\\")\\n\",\n",
    "    \"    h = int(c)\\n\",\n",
    "    \"    if c < 19 :\\n\",\n",
    "    \"        print(\\\"Your No. in word :\\\",d[h])\\n\",\n",
    "    \"    elif c <100 :\\n\",\n",
    "    \"        print(\\\"Your No. in word is : \\\",e[h//10] +\\\" \\\"+ d[h % 10 ])\\n\",\n",
    "    \"    elif c < 1000 :\\n\",\n",
    "    \"        print(\\\"Your No. in word is :\\\",f[h//100]+\\\" \\\"+ e[(h%100)//10] +\\\" \\\"+ d[h % 10 ])\\n\",\n",
    "    \"    elif c < 11000 :\\n\",\n",
    "    \"        print(\\\"Your No. in word is :\\\",g[h//1000]+\\\" \\\"+f[(h%1000)//100]+\\\" \\\"+ e[((h%1000)%100)//10] +\\\" \\\"+ d[h % 10 ],\\\"Rupees Only\\\")\\n\",\n",
    "    \"    \\n\",\n",
    "    \"    \\n\",\n",
    "    \"    \"\n",
    "   ]\n",
    "  },\n",
    "  {\n",
    "   \"cell_type\": \"code\",\n",
    "   \"execution_count\": null,\n",
    "   \"id\": \"d2809144\",\n",
    "   \"metadata\": {},\n",
    "   \"outputs\": [],\n",
    "   \"source\": []\n",
    "  },\n",
    "  {\n",
    "   \"cell_type\": \"code\",\n",
    "   \"execution_count\": null,\n",
    "   \"id\": \"aee8ad1a\",\n",
    "   \"metadata\": {},\n",
    "   \"outputs\": [],\n",
    "   \"source\": []\n",
    "  }\n",
    " ],\n",
    " \"metadata\": {\n",
    "  \"kernelspec\": {\n",
    "   \"display_name\": \"Python 3 (ipykernel)\",\n",
    "   \"language\": \"python\",\n",
    "   \"name\": \"python3\"\n",
    "  },\n",
    "  \"language_info\": {\n",
    "   \"codemirror_mode\": {\n",
    "    \"name\": \"ipython\",\n",
    "    \"version\": 3\n",
    "   },\n",
    "   \"file_extension\": \".py\",\n",
    "   \"mimetype\": \"text/x-python\",\n",
    "   \"name\": \"python\",\n",
    "   \"nbconvert_exporter\": \"python\",\n",
    "   \"pygments_lexer\": \"ipython3\",\n",
    "   \"version\": \"3.9.12\"\n",
    "  }\n",
    " },\n",
    " \"nbformat\": 4,\n",
    " \"nbformat_minor\": 5\n",
    "}\n"
   ]
  },
  {
   "cell_type": "code",
   "execution_count": 8,
   "id": "96228ae8",
   "metadata": {},
   "outputs": [
    {
     "name": "stdout",
     "output_type": "stream",
     "text": [
      "enter the names :Aman Saloni Bishnupriya Sean\n",
      "\n",
      "enter the value :Sean\n",
      "\n",
      "enter the value :Aman\n",
      "0  ===>  Aman\n",
      "\n",
      "enter the new value :yash\n",
      "1  ===>  Saloni\n",
      "\n",
      " the new list is:\n",
      "2  ===>  Bishnupriya\n",
      "\n",
      " the new list is:\n",
      "3  ===>  Sean\n",
      "\n",
      "enter the new value :jatin\n",
      "['yash', 'Saloni', 'Bishnupriya', 'jatin']\n"
     ]
    }
   ],
   "source": [
    "list = input(\"enter the names :\").split()\n",
    "value1 = input(\"\\nenter the value :\")\n",
    "value2 = input  (\"\\nenter the value :\")\n",
    "for k in list :\n",
    "    print(list.index(k),\" ===> \",k)\n",
    "    if k == value1 or k == value2 :\n",
    "        list[list.index(k)] = input(\"\\nenter the new value :\")\n",
    "    else:\n",
    "        print(\"\\n the new list is:\")\n",
    "print(list)\n",
    "    "
   ]
  },
  {
   "cell_type": "code",
   "execution_count": null,
   "id": "02481414",
   "metadata": {},
   "outputs": [],
   "source": [
    "l1 = [10,5,6,10,8,15,16]\n",
    "total = 0\n",
    "for value in l1:\n",
    "    print(total,\"+\",value)"
   ]
  },
  {
   "cell_type": "code",
   "execution_count": 23,
   "id": "5580a68c",
   "metadata": {},
   "outputs": [
    {
     "name": "stdout",
     "output_type": "stream",
     "text": [
      "['Ria', 'Jackie']\n"
     ]
    }
   ],
   "source": [
    "L2 = [\"Sean\",\"Ria\",\"Maria\",\"Jackie\"]\n",
    "for k in range(len(L2)):\n",
    "    if k/2==1 :\n",
    "        L2.remove(L2[k])\n",
    "        if k/2==1 :\n",
    "            L2.remove(L2[0])\n",
    "print(L2)"
   ]
  },
  {
   "cell_type": "code",
   "execution_count": 26,
   "id": "352a8ce1",
   "metadata": {},
   "outputs": [
    {
     "name": "stdout",
     "output_type": "stream",
     "text": [
      "Enter The path:C:\\Users\\hp\\Downloads\\11.jpg\n"
     ]
    },
    {
     "ename": "FileNotFoundError",
     "evalue": "[Errno 2] No such file or directory: 'C:\\\\Users\\\\hp\\\\Downloads\\\\11.jpg'",
     "output_type": "error",
     "traceback": [
      "\u001b[1;31m---------------------------------------------------------------------------\u001b[0m",
      "\u001b[1;31mFileNotFoundError\u001b[0m                         Traceback (most recent call last)",
      "Input \u001b[1;32mIn [26]\u001b[0m, in \u001b[0;36m<cell line: 2>\u001b[1;34m()\u001b[0m\n\u001b[0;32m      1\u001b[0m \u001b[38;5;28;01mfrom\u001b[39;00m \u001b[38;5;21;01mPIL\u001b[39;00m \u001b[38;5;28;01mimport\u001b[39;00m Image\n\u001b[1;32m----> 2\u001b[0m img \u001b[38;5;241m=\u001b[39m \u001b[43mImage\u001b[49m\u001b[38;5;241;43m.\u001b[39;49m\u001b[43mopen\u001b[49m\u001b[43m(\u001b[49m\u001b[38;5;28;43minput\u001b[39;49m\u001b[43m(\u001b[49m\u001b[38;5;124;43m\"\u001b[39;49m\u001b[38;5;124;43mEnter The path:\u001b[39;49m\u001b[38;5;124;43m\"\u001b[39;49m\u001b[43m)\u001b[49m\u001b[43m)\u001b[49m\n\u001b[0;32m      3\u001b[0m img\n",
      "File \u001b[1;32m~\\anaconda3\\lib\\site-packages\\PIL\\Image.py:2953\u001b[0m, in \u001b[0;36mopen\u001b[1;34m(fp, mode, formats)\u001b[0m\n\u001b[0;32m   2950\u001b[0m     filename \u001b[38;5;241m=\u001b[39m fp\n\u001b[0;32m   2952\u001b[0m \u001b[38;5;28;01mif\u001b[39;00m filename:\n\u001b[1;32m-> 2953\u001b[0m     fp \u001b[38;5;241m=\u001b[39m \u001b[43mbuiltins\u001b[49m\u001b[38;5;241;43m.\u001b[39;49m\u001b[43mopen\u001b[49m\u001b[43m(\u001b[49m\u001b[43mfilename\u001b[49m\u001b[43m,\u001b[49m\u001b[43m \u001b[49m\u001b[38;5;124;43m\"\u001b[39;49m\u001b[38;5;124;43mrb\u001b[39;49m\u001b[38;5;124;43m\"\u001b[39;49m\u001b[43m)\u001b[49m\n\u001b[0;32m   2954\u001b[0m     exclusive_fp \u001b[38;5;241m=\u001b[39m \u001b[38;5;28;01mTrue\u001b[39;00m\n\u001b[0;32m   2956\u001b[0m \u001b[38;5;28;01mtry\u001b[39;00m:\n",
      "\u001b[1;31mFileNotFoundError\u001b[0m: [Errno 2] No such file or directory: 'C:\\\\Users\\\\hp\\\\Downloads\\\\11.jpg'"
     ]
    }
   ],
   "source": [
    "from PIL import Image\n",
    "img = Image.open(input(\"Enter The path:\"))\n",
    "img"
   ]
  },
  {
   "cell_type": "code",
   "execution_count": 39,
   "id": "5a80e4e1",
   "metadata": {},
   "outputs": [
    {
     "name": "stdout",
     "output_type": "stream",
     "text": [
      "['Sean', 'Jack']\n",
      "True\n"
     ]
    }
   ],
   "source": [
    "d1 = {\"Name\":[\"Sean\",\"Jack\"]}\n",
    "for k in d1.values():\n",
    "    print(k)\n",
    "    if \"Sean\" in k:\n",
    "        print(\"True\")"
   ]
  },
  {
   "cell_type": "code",
   "execution_count": 40,
   "id": "9814e0ec",
   "metadata": {},
   "outputs": [
    {
     "data": {
      "text/html": [
       "<div>\n",
       "<style scoped>\n",
       "    .dataframe tbody tr th:only-of-type {\n",
       "        vertical-align: middle;\n",
       "    }\n",
       "\n",
       "    .dataframe tbody tr th {\n",
       "        vertical-align: top;\n",
       "    }\n",
       "\n",
       "    .dataframe thead th {\n",
       "        text-align: right;\n",
       "    }\n",
       "</style>\n",
       "<table border=\"1\" class=\"dataframe\">\n",
       "  <thead>\n",
       "    <tr style=\"text-align: right;\">\n",
       "      <th></th>\n",
       "      <th>name</th>\n",
       "      <th>address</th>\n",
       "    </tr>\n",
       "  </thead>\n",
       "  <tbody>\n",
       "    <tr>\n",
       "      <th>0</th>\n",
       "      <td>saloni</td>\n",
       "      <td>jaipur</td>\n",
       "    </tr>\n",
       "    <tr>\n",
       "      <th>1</th>\n",
       "      <td>yash</td>\n",
       "      <td>MP</td>\n",
       "    </tr>\n",
       "  </tbody>\n",
       "</table>\n",
       "</div>"
      ],
      "text/plain": [
       "     name address\n",
       "0  saloni  jaipur\n",
       "1    yash      MP"
      ]
     },
     "execution_count": 40,
     "metadata": {},
     "output_type": "execute_result"
    }
   ],
   "source": [
    "d1 = {\"name\":[\"saloni\",\"yash\"],\"address\":[\"jaipur\",\"MP\"]}\n",
    "import pandas as pd\n",
    "df = pd.DataFrame(d1)\n",
    "df"
   ]
  },
  {
   "cell_type": "code",
   "execution_count": null,
   "id": "b41ca7f9",
   "metadata": {},
   "outputs": [],
   "source": [
    "l1 = [1,2,3,4,5,6,7]\n",
    "l2 = []\n",
    "data = [2,4,6]\n",
    "for k in l1:\n",
    "    if "
   ]
  },
  {
   "cell_type": "code",
   "execution_count": 1,
   "id": "ebceaff4",
   "metadata": {},
   "outputs": [
    {
     "name": "stdout",
     "output_type": "stream",
     "text": [
      "\n",
      "Addition is : 102.5\n",
      "\n",
      "subtraction is : 97.5\n",
      "\n",
      "multiplication is : 250.0\n",
      "\n",
      "division is : 40.0\n"
     ]
    }
   ],
   "source": [
    "def total(a1=100,b1=2.5):\n",
    "    add = a1+b1\n",
    "    sub = a1-b1\n",
    "    mul = a1*b1\n",
    "    div = a1/b1\n",
    "    print(\"\\nAddition is :\",add)\n",
    "    print(\"\\nsubtraction is :\",sub)\n",
    "    print(\"\\nmultiplication is :\",mul)\n",
    "    print(\"\\ndivision is :\",div)\n",
    "    \n",
    "total()\n",
    "    "
   ]
  },
  {
   "cell_type": "code",
   "execution_count": 2,
   "id": "9005fcd8",
   "metadata": {},
   "outputs": [],
   "source": [
    "def info(name,age):\n",
    "    print(\"name ==>\",name)\n",
    "    print(\"age ==>\",age)"
   ]
  },
  {
   "cell_type": "code",
   "execution_count": 4,
   "id": "72effa4a",
   "metadata": {},
   "outputs": [
    {
     "name": "stdout",
     "output_type": "stream",
     "text": [
      "name ==> saloni\n",
      "age ==> 20\n"
     ]
    }
   ],
   "source": [
    "info(\"saloni\",20)"
   ]
  },
  {
   "cell_type": "code",
   "execution_count": 4,
   "id": "88a75f04",
   "metadata": {},
   "outputs": [],
   "source": [
    "l1 = [26,[27,90,[100,105,110,200]]]\n"
   ]
  },
  {
   "cell_type": "code",
   "execution_count": 12,
   "id": "b5a957b0",
   "metadata": {},
   "outputs": [],
   "source": [
    "data = {\"name\":\"jack\",\"keys\":{\"code\":1060,\"password\":\"sean\",\"gmail\":\"abc@gmail.com\"}}"
   ]
  },
  {
   "cell_type": "code",
   "execution_count": 16,
   "id": "3779fa9e",
   "metadata": {},
   "outputs": [
    {
     "name": "stdout",
     "output_type": "stream",
     "text": [
      "enter the new password :saloni\n"
     ]
    }
   ],
   "source": [
    "data.update(password=input(\"enter the new password :\"))"
   ]
  },
  {
   "cell_type": "code",
   "execution_count": 17,
   "id": "a5e86376",
   "metadata": {},
   "outputs": [
    {
     "data": {
      "text/plain": [
       "{'name': 'jack',\n",
       " 'keys': {'code': 1060, 'password': 'sean', 'gmail': 'abc@gmail.com'},\n",
       " 'password': 'saloni'}"
      ]
     },
     "execution_count": 17,
     "metadata": {},
     "output_type": "execute_result"
    }
   ],
   "source": [
    "data"
   ]
  },
  {
   "cell_type": "code",
   "execution_count": 8,
   "id": "85515904",
   "metadata": {},
   "outputs": [
    {
     "data": {
      "text/plain": [
       "['__class__',\n",
       " '__class_getitem__',\n",
       " '__contains__',\n",
       " '__delattr__',\n",
       " '__delitem__',\n",
       " '__dir__',\n",
       " '__doc__',\n",
       " '__eq__',\n",
       " '__format__',\n",
       " '__ge__',\n",
       " '__getattribute__',\n",
       " '__getitem__',\n",
       " '__gt__',\n",
       " '__hash__',\n",
       " '__init__',\n",
       " '__init_subclass__',\n",
       " '__ior__',\n",
       " '__iter__',\n",
       " '__le__',\n",
       " '__len__',\n",
       " '__lt__',\n",
       " '__ne__',\n",
       " '__new__',\n",
       " '__or__',\n",
       " '__reduce__',\n",
       " '__reduce_ex__',\n",
       " '__repr__',\n",
       " '__reversed__',\n",
       " '__ror__',\n",
       " '__setattr__',\n",
       " '__setitem__',\n",
       " '__sizeof__',\n",
       " '__str__',\n",
       " '__subclasshook__',\n",
       " 'clear',\n",
       " 'copy',\n",
       " 'fromkeys',\n",
       " 'get',\n",
       " 'items',\n",
       " 'keys',\n",
       " 'pop',\n",
       " 'popitem',\n",
       " 'setdefault',\n",
       " 'update',\n",
       " 'values']"
      ]
     },
     "execution_count": 8,
     "metadata": {},
     "output_type": "execute_result"
    }
   ],
   "source": [
    "dir(dict)"
   ]
  },
  {
   "cell_type": "code",
   "execution_count": 14,
   "id": "231902aa",
   "metadata": {},
   "outputs": [
    {
     "name": "stdout",
     "output_type": "stream",
     "text": [
      "[1, 2, 3, 4, 5, 6, 7, 8, 9, 10, 11, 12, 13, 14, 15, 16, 17, 18, 19, 20, 21, 22, 23, 24, 25, 26, 27, 28, 29, 30, 31, 32, 33, 34, 35, 36, 37, 38, 39, 40, 41, 42, 43, 44, 45, 46, 47, 48, 49, 50, 51, 52, 53, 54, 55, 56, 57, 58, 59, 60, 61, 62, 63, 64, 65, 66, 67, 68, 69, 70, 71, 72, 73, 74, 75, 76, 77, 78, 79, 80, 81, 82, 83, 84, 85, 86, 87, 88, 89, 90, 91, 92, 93, 94, 95, 96, 97, 98, 99, 100, 101, 102, 103, 104, 105, 106, 107, 108, 109, 110, 111, 112, 113, 114, 115, 116, 117, 118, 119, 120, 121, 122, 123, 124, 125, 126, 127, 128, 129, 130, 131, 132, 133, 134, 135, 136, 137, 138, 139, 140, 141, 142, 143, 144, 145, 146, 147, 148, 149, 150, 151, 152, 153, 154, 155, 156, 157, 158, 159, 160, 161, 162, 163, 164, 165, 166, 167, 168, 169, 170, 171, 172, 173, 174, 175, 176, 177, 178, 179, 180, 181, 182, 183, 184, 185, 186, 187, 188, 189, 190, 191, 192, 193, 194, 195, 196, 197, 198, 199]\n"
     ]
    }
   ],
   "source": [
    "def retList():\n",
    "    list = []\n",
    "    for i in range(1,200):          \n",
    "        list.append(i)\n",
    "    return list\n",
    "a = retList()\n",
    "print(a)"
   ]
  },
  {
   "cell_type": "code",
   "execution_count": 23,
   "id": "8d9335d1",
   "metadata": {},
   "outputs": [
    {
     "name": "stdout",
     "output_type": "stream",
     "text": [
      "['sean', 'jack', 'neesham', 'kyle']\n"
     ]
    }
   ],
   "source": [
    "l1=[\"sean\",\"jack\",\"neesham\",\"kyle\"]\n",
    "l2=[]\n",
    "for k in l1:\n",
    "    l2.append(k)\n",
    "print(l2)"
   ]
  },
  {
   "cell_type": "code",
   "execution_count": 21,
   "id": "c1fc3f18",
   "metadata": {},
   "outputs": [
    {
     "name": "stdout",
     "output_type": "stream",
     "text": [
      "['jack', 'kyle', 'zyan', 'liam', 'sean', 'neesham']\n"
     ]
    }
   ],
   "source": [
    "l1=[\"sean\",\"jack\",\"neesham\",\"kyle\"]\n",
    "l2=['jack','kyle','zyan','liam']\n",
    "for k in l1:\n",
    "    if k not in l2:\n",
    "        l2.append(k)\n",
    "print(l2)"
   ]
  },
  {
   "cell_type": "code",
   "execution_count": 2,
   "id": "5c3699c8",
   "metadata": {},
   "outputs": [],
   "source": [
    "def text():\n",
    "    return \"Hello Jackie !!!! I am Tired..\""
   ]
  },
  {
   "cell_type": "code",
   "execution_count": 3,
   "id": "8fe692d6",
   "metadata": {},
   "outputs": [
    {
     "name": "stdout",
     "output_type": "stream",
     "text": [
      "Hello Jackie !!!! I am Tired..\n"
     ]
    }
   ],
   "source": [
    "print(text())"
   ]
  },
  {
   "cell_type": "code",
   "execution_count": 8,
   "id": "d23b0617",
   "metadata": {},
   "outputs": [
    {
     "ename": "ValueError",
     "evalue": "If using all scalar values, you must pass an index",
     "output_type": "error",
     "traceback": [
      "\u001b[1;31m---------------------------------------------------------------------------\u001b[0m",
      "\u001b[1;31mValueError\u001b[0m                                Traceback (most recent call last)",
      "Input \u001b[1;32mIn [8]\u001b[0m, in \u001b[0;36m<cell line: 3>\u001b[1;34m()\u001b[0m\n\u001b[0;32m      1\u001b[0m d1\u001b[38;5;241m=\u001b[39m{\u001b[38;5;124m'\u001b[39m\u001b[38;5;124mname\u001b[39m\u001b[38;5;124m'\u001b[39m:\u001b[38;5;124m\"\u001b[39m\u001b[38;5;124msaloni\u001b[39m\u001b[38;5;124m\"\u001b[39m,\u001b[38;5;124m'\u001b[39m\u001b[38;5;124mage\u001b[39m\u001b[38;5;124m'\u001b[39m:\u001b[38;5;241m20\u001b[39m,\u001b[38;5;124m'\u001b[39m\u001b[38;5;124mgender\u001b[39m\u001b[38;5;124m'\u001b[39m:\u001b[38;5;124m'\u001b[39m\u001b[38;5;124mfemale\u001b[39m\u001b[38;5;124m'\u001b[39m,\u001b[38;5;124m'\u001b[39m\u001b[38;5;124mnumber\u001b[39m\u001b[38;5;124m'\u001b[39m:\u001b[38;5;241m7410809994\u001b[39m}\n\u001b[0;32m      2\u001b[0m \u001b[38;5;28;01mimport\u001b[39;00m \u001b[38;5;21;01mpandas\u001b[39;00m \u001b[38;5;28;01mas\u001b[39;00m \u001b[38;5;21;01mpd\u001b[39;00m\n\u001b[1;32m----> 3\u001b[0m df\u001b[38;5;241m=\u001b[39m \u001b[43mpd\u001b[49m\u001b[38;5;241;43m.\u001b[39;49m\u001b[43mDataFrame\u001b[49m\u001b[43m(\u001b[49m\u001b[43md1\u001b[49m\u001b[43m)\u001b[49m\n\u001b[0;32m      4\u001b[0m \u001b[38;5;28mprint\u001b[39m(df)\n",
      "File \u001b[1;32m~\\anaconda3\\lib\\site-packages\\pandas\\core\\frame.py:636\u001b[0m, in \u001b[0;36mDataFrame.__init__\u001b[1;34m(self, data, index, columns, dtype, copy)\u001b[0m\n\u001b[0;32m    630\u001b[0m     mgr \u001b[38;5;241m=\u001b[39m \u001b[38;5;28mself\u001b[39m\u001b[38;5;241m.\u001b[39m_init_mgr(\n\u001b[0;32m    631\u001b[0m         data, axes\u001b[38;5;241m=\u001b[39m{\u001b[38;5;124m\"\u001b[39m\u001b[38;5;124mindex\u001b[39m\u001b[38;5;124m\"\u001b[39m: index, \u001b[38;5;124m\"\u001b[39m\u001b[38;5;124mcolumns\u001b[39m\u001b[38;5;124m\"\u001b[39m: columns}, dtype\u001b[38;5;241m=\u001b[39mdtype, copy\u001b[38;5;241m=\u001b[39mcopy\n\u001b[0;32m    632\u001b[0m     )\n\u001b[0;32m    634\u001b[0m \u001b[38;5;28;01melif\u001b[39;00m \u001b[38;5;28misinstance\u001b[39m(data, \u001b[38;5;28mdict\u001b[39m):\n\u001b[0;32m    635\u001b[0m     \u001b[38;5;66;03m# GH#38939 de facto copy defaults to False only in non-dict cases\u001b[39;00m\n\u001b[1;32m--> 636\u001b[0m     mgr \u001b[38;5;241m=\u001b[39m \u001b[43mdict_to_mgr\u001b[49m\u001b[43m(\u001b[49m\u001b[43mdata\u001b[49m\u001b[43m,\u001b[49m\u001b[43m \u001b[49m\u001b[43mindex\u001b[49m\u001b[43m,\u001b[49m\u001b[43m \u001b[49m\u001b[43mcolumns\u001b[49m\u001b[43m,\u001b[49m\u001b[43m \u001b[49m\u001b[43mdtype\u001b[49m\u001b[38;5;241;43m=\u001b[39;49m\u001b[43mdtype\u001b[49m\u001b[43m,\u001b[49m\u001b[43m \u001b[49m\u001b[43mcopy\u001b[49m\u001b[38;5;241;43m=\u001b[39;49m\u001b[43mcopy\u001b[49m\u001b[43m,\u001b[49m\u001b[43m \u001b[49m\u001b[43mtyp\u001b[49m\u001b[38;5;241;43m=\u001b[39;49m\u001b[43mmanager\u001b[49m\u001b[43m)\u001b[49m\n\u001b[0;32m    637\u001b[0m \u001b[38;5;28;01melif\u001b[39;00m \u001b[38;5;28misinstance\u001b[39m(data, ma\u001b[38;5;241m.\u001b[39mMaskedArray):\n\u001b[0;32m    638\u001b[0m     \u001b[38;5;28;01mimport\u001b[39;00m \u001b[38;5;21;01mnumpy\u001b[39;00m\u001b[38;5;21;01m.\u001b[39;00m\u001b[38;5;21;01mma\u001b[39;00m\u001b[38;5;21;01m.\u001b[39;00m\u001b[38;5;21;01mmrecords\u001b[39;00m \u001b[38;5;28;01mas\u001b[39;00m \u001b[38;5;21;01mmrecords\u001b[39;00m\n",
      "File \u001b[1;32m~\\anaconda3\\lib\\site-packages\\pandas\\core\\internals\\construction.py:502\u001b[0m, in \u001b[0;36mdict_to_mgr\u001b[1;34m(data, index, columns, dtype, typ, copy)\u001b[0m\n\u001b[0;32m    494\u001b[0m     arrays \u001b[38;5;241m=\u001b[39m [\n\u001b[0;32m    495\u001b[0m         x\n\u001b[0;32m    496\u001b[0m         \u001b[38;5;28;01mif\u001b[39;00m \u001b[38;5;129;01mnot\u001b[39;00m \u001b[38;5;28mhasattr\u001b[39m(x, \u001b[38;5;124m\"\u001b[39m\u001b[38;5;124mdtype\u001b[39m\u001b[38;5;124m\"\u001b[39m) \u001b[38;5;129;01mor\u001b[39;00m \u001b[38;5;129;01mnot\u001b[39;00m \u001b[38;5;28misinstance\u001b[39m(x\u001b[38;5;241m.\u001b[39mdtype, ExtensionDtype)\n\u001b[0;32m    497\u001b[0m         \u001b[38;5;28;01melse\u001b[39;00m x\u001b[38;5;241m.\u001b[39mcopy()\n\u001b[0;32m    498\u001b[0m         \u001b[38;5;28;01mfor\u001b[39;00m x \u001b[38;5;129;01min\u001b[39;00m arrays\n\u001b[0;32m    499\u001b[0m     ]\n\u001b[0;32m    500\u001b[0m     \u001b[38;5;66;03m# TODO: can we get rid of the dt64tz special case above?\u001b[39;00m\n\u001b[1;32m--> 502\u001b[0m \u001b[38;5;28;01mreturn\u001b[39;00m \u001b[43marrays_to_mgr\u001b[49m\u001b[43m(\u001b[49m\u001b[43marrays\u001b[49m\u001b[43m,\u001b[49m\u001b[43m \u001b[49m\u001b[43mcolumns\u001b[49m\u001b[43m,\u001b[49m\u001b[43m \u001b[49m\u001b[43mindex\u001b[49m\u001b[43m,\u001b[49m\u001b[43m \u001b[49m\u001b[43mdtype\u001b[49m\u001b[38;5;241;43m=\u001b[39;49m\u001b[43mdtype\u001b[49m\u001b[43m,\u001b[49m\u001b[43m \u001b[49m\u001b[43mtyp\u001b[49m\u001b[38;5;241;43m=\u001b[39;49m\u001b[43mtyp\u001b[49m\u001b[43m,\u001b[49m\u001b[43m \u001b[49m\u001b[43mconsolidate\u001b[49m\u001b[38;5;241;43m=\u001b[39;49m\u001b[43mcopy\u001b[49m\u001b[43m)\u001b[49m\n",
      "File \u001b[1;32m~\\anaconda3\\lib\\site-packages\\pandas\\core\\internals\\construction.py:120\u001b[0m, in \u001b[0;36marrays_to_mgr\u001b[1;34m(arrays, columns, index, dtype, verify_integrity, typ, consolidate)\u001b[0m\n\u001b[0;32m    117\u001b[0m \u001b[38;5;28;01mif\u001b[39;00m verify_integrity:\n\u001b[0;32m    118\u001b[0m     \u001b[38;5;66;03m# figure out the index, if necessary\u001b[39;00m\n\u001b[0;32m    119\u001b[0m     \u001b[38;5;28;01mif\u001b[39;00m index \u001b[38;5;129;01mis\u001b[39;00m \u001b[38;5;28;01mNone\u001b[39;00m:\n\u001b[1;32m--> 120\u001b[0m         index \u001b[38;5;241m=\u001b[39m \u001b[43m_extract_index\u001b[49m\u001b[43m(\u001b[49m\u001b[43marrays\u001b[49m\u001b[43m)\u001b[49m\n\u001b[0;32m    121\u001b[0m     \u001b[38;5;28;01melse\u001b[39;00m:\n\u001b[0;32m    122\u001b[0m         index \u001b[38;5;241m=\u001b[39m ensure_index(index)\n",
      "File \u001b[1;32m~\\anaconda3\\lib\\site-packages\\pandas\\core\\internals\\construction.py:664\u001b[0m, in \u001b[0;36m_extract_index\u001b[1;34m(data)\u001b[0m\n\u001b[0;32m    661\u001b[0m         \u001b[38;5;28;01mraise\u001b[39;00m \u001b[38;5;167;01mValueError\u001b[39;00m(\u001b[38;5;124m\"\u001b[39m\u001b[38;5;124mPer-column arrays must each be 1-dimensional\u001b[39m\u001b[38;5;124m\"\u001b[39m)\n\u001b[0;32m    663\u001b[0m \u001b[38;5;28;01mif\u001b[39;00m \u001b[38;5;129;01mnot\u001b[39;00m indexes \u001b[38;5;129;01mand\u001b[39;00m \u001b[38;5;129;01mnot\u001b[39;00m raw_lengths:\n\u001b[1;32m--> 664\u001b[0m     \u001b[38;5;28;01mraise\u001b[39;00m \u001b[38;5;167;01mValueError\u001b[39;00m(\u001b[38;5;124m\"\u001b[39m\u001b[38;5;124mIf using all scalar values, you must pass an index\u001b[39m\u001b[38;5;124m\"\u001b[39m)\n\u001b[0;32m    666\u001b[0m \u001b[38;5;28;01melif\u001b[39;00m have_series:\n\u001b[0;32m    667\u001b[0m     index \u001b[38;5;241m=\u001b[39m union_indexes(indexes)\n",
      "\u001b[1;31mValueError\u001b[0m: If using all scalar values, you must pass an index"
     ]
    }
   ],
   "source": [
    "d1={'name':\"saloni\",'age':20,'gender':'female','number':7410809994}\n",
    "import pandas as pd\n",
    "df= pd.DataFrame(d1)\n",
    "print(df)"
   ]
  },
  {
   "cell_type": "code",
   "execution_count": null,
   "id": "0d75fde3",
   "metadata": {},
   "outputs": [],
   "source": []
  }
 ],
 "metadata": {
  "kernelspec": {
   "display_name": "Python 3 (ipykernel)",
   "language": "python",
   "name": "python3"
  },
  "language_info": {
   "codemirror_mode": {
    "name": "ipython",
    "version": 3
   },
   "file_extension": ".py",
   "mimetype": "text/x-python",
   "name": "python",
   "nbconvert_exporter": "python",
   "pygments_lexer": "ipython3",
   "version": "3.9.12"
  }
 },
 "nbformat": 4,
 "nbformat_minor": 5
}
