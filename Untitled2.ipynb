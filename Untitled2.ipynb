{
 "cells": [
  {
   "cell_type": "code",
   "execution_count": 1,
   "id": "1a72cc64",
   "metadata": {},
   "outputs": [],
   "source": [
    "l1=['saloni','sean','simran','nikhil','aman','ayush','yash']"
   ]
  },
  {
   "cell_type": "code",
   "execution_count": 2,
   "id": "1abcc4dd",
   "metadata": {},
   "outputs": [],
   "source": [
    "l1=['saloni','sean','simran','nikhil','aman','ayush','yash']"
   ]
  },
  {
   "cell_type": "code",
   "execution_count": 3,
   "id": "3226282d",
   "metadata": {},
   "outputs": [
    {
     "name": "stdout",
     "output_type": "stream",
     "text": [
      "simran\n",
      "simran\n"
     ]
    }
   ],
   "source": [
    "for k in l1:\n",
    "    if k == 'simran':\n",
    "        a = str(k)\n",
    "        print(a.replace('k','akriti'))\n",
    "l1.append(a)\n",
    "print(a)\n",
    "        "
   ]
  },
  {
   "cell_type": "code",
   "execution_count": null,
   "id": "1952dba3",
   "metadata": {},
   "outputs": [],
   "source": []
  },
  {
   "cell_type": "code",
   "execution_count": null,
   "id": "b17bd349",
   "metadata": {},
   "outputs": [],
   "source": []
  }
 ],
 "metadata": {
  "kernelspec": {
   "display_name": "Python 3 (ipykernel)",
   "language": "python",
   "name": "python3"
  },
  "language_info": {
   "codemirror_mode": {
    "name": "ipython",
    "version": 3
   },
   "file_extension": ".py",
   "mimetype": "text/x-python",
   "name": "python",
   "nbconvert_exporter": "python",
   "pygments_lexer": "ipython3",
   "version": "3.9.12"
  }
 },
 "nbformat": 4,
 "nbformat_minor": 5
}
